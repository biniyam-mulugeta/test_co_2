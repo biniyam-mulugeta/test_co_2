{
  "nbformat": 4,
  "nbformat_minor": 0,
  "metadata": {
    "colab": {
      "name": "coffee_better2.ipynb",
      "provenance": [],
      "authorship_tag": "ABX9TyNZ5jlyHaZSW7csPGX/SQs/",
      "include_colab_link": true
    },
    "kernelspec": {
      "name": "python3",
      "display_name": "Python 3"
    },
    "language_info": {
      "name": "python"
    },
    "accelerator": "GPU"
  },
  "cells": [
    {
      "cell_type": "markdown",
      "metadata": {
        "id": "view-in-github",
        "colab_type": "text"
      },
      "source": [
        "<a href=\"https://colab.research.google.com/github/biniyam-mulugeta/test_co_2/blob/main/coffee_better2.ipynb\" target=\"_parent\"><img src=\"https://colab.research.google.com/assets/colab-badge.svg\" alt=\"Open In Colab\"/></a>"
      ]
    },
    {
      "cell_type": "code",
      "execution_count": null,
      "metadata": {
        "id": "sgJ8KtTgwj_K"
      },
      "outputs": [],
      "source": [
        "from google.colab import drive\n",
        "drive.mount('/content/drive')"
      ]
    },
    {
      "cell_type": "code",
      "source": [
        "import tensorflow as tf\n",
        "import numpy as np \n",
        "from keras.models import Model\n",
        "from keras.layers import Flatten#,Dense,Dropout,Conv2D\n",
        "from keras.applications import efficientnet#densenetmobilenet_v2#,efficientnet,vgg16,densenet\n",
        "#from keras_preprocessing import image\n",
        "#from keras_preprocessing.image import ImageDataGenerator\n",
        "#from keras.utils.all_utils import to_categorical\n",
        "from sklearn import preprocessing\n",
        "#from skimage.filters import threshold_otsu\n",
        "import cv2\n",
        "from pathlib import Path\n",
        "import os\n",
        "import glob\n",
        "import matplotlib.pyplot as plt\n",
        "#import seaborn as sns\n",
        "#import zipfile\n",
        "%matplotlib inline"
      ],
      "metadata": {
        "id": "AQRc3v4zwo3t"
      },
      "execution_count": 2,
      "outputs": []
    },
    {
      "cell_type": "code",
      "source": [
        "from sklearn.decomposition import PCA\n",
        "from sklearn.svm import SVC\n",
        "from sklearn.ensemble import RandomForestClassifier\n",
        "from sklearn.metrics import accuracy_score\n",
        "from sklearn.metrics import confusion_matrix\n",
        "from sklearn.metrics import plot_confusion_matrix\n",
        "from sklearn.metrics import classification_report"
      ],
      "metadata": {
        "id": "DAyVZV5Hw7eH"
      },
      "execution_count": 3,
      "outputs": []
    },
    {
      "cell_type": "code",
      "source": [
        "def k_means_segmentation(img):\n",
        "  twoDimage = img.reshape((-1,3))\n",
        "  twoDimage = np.float32(twoDimage)\n",
        "  criteria = (cv2.TERM_CRITERIA_EPS + cv2.TERM_CRITERIA_MAX_ITER, 10, 1.0)\n",
        "  K = 2\n",
        "  attempts=1\n",
        "  ret,label,center=cv2.kmeans(twoDimage,K,None,criteria,attempts,cv2.KMEANS_PP_CENTERS)\n",
        "  center = np.uint8(center)\n",
        "  res = center[label.flatten()]\n",
        "  result_image = res.reshape((img.shape))\n",
        "  return result_imag\n",
        "\n",
        "def color_mask_segmentation(img):\n",
        "  hsv_img = cv2.cvtColor(img, cv2.COLOR_RGB2HSV)\n",
        "  light_blue = (90, 70, 50)\n",
        "  #dark_blue = (128, 255, 255)\n",
        "  # You can use the following values for green\n",
        "  light_green = (40, 40, 40)\n",
        "  # dark_greek = (70, 255, 255)\n",
        "  mask = cv2.inRange(hsv_img, light_blue, light_green)\n",
        "  result = cv2.bitwise_and(img, img, mask=mask)\n",
        "  return result\n",
        "\n",
        "def filter_image(image, mask):\n",
        "    r = image[:,:,0] * mask\n",
        "    g = image[:,:,1] * mask\n",
        "    b = image[:,:,2] * mask\n",
        "    return np.dstack([r,g,b])\n",
        "  \n",
        "def otsu_segmentation(img):\n",
        "    img_gray=cv2.cvtColor(img,cv2.COLOR_RGB2GRAY)\n",
        "    thresh = threshold_otsu(img_gray)\n",
        "    img_otsu  = img_gray < thresh\n",
        "    filtered = filter_image(img, img_otsu)\n",
        "    return filtered"
      ],
      "metadata": {
        "id": "r9VFTOAGw96W"
      },
      "execution_count": 4,
      "outputs": []
    },
    {
      "cell_type": "code",
      "source": [
        "SIZE = 224\n",
        "train_image = []\n",
        "train_label = []\n",
        "for dir_path in glob.glob(\"/content/drive/My Drive/train_cro/*\"):\n",
        "    label = dir_path.split(\"\\\\\")[-1]\n",
        "    print(label)\n",
        "    for img_path in glob.glob(os.path.join(dir_path,\"*.jpg\")):\n",
        "        print(img_path)\n",
        "        img = cv2.imread(img_path,cv2.IMREAD_COLOR)\n",
        "        img = cv2.resize(img,(SIZE,SIZE))\n",
        "        img = cv2.cvtColor(img,cv2.COLOR_RGB2BGR)\n",
        "        #img = otsu_segmentation(img)\n",
        "        train_image.append(img)\n",
        "        train_label.append(label)\n",
        "train_image = np.array(train_image)\n",
        "train_label = np.array(train_label)\n",
        "\n",
        "val_image = []\n",
        "val_label = []\n",
        "for dir_path_v in glob.glob(\"/content/drive/My Drive/validation_cro/*\"):\n",
        "    label_v = dir_path_v.split(\"\\\\\")[-1]\n",
        "    #print(label_v)\n",
        "    for img_path_v in glob.glob(os.path.join(dir_path_v,\"*.jpg\")):\n",
        "        #print(img_path_v)\n",
        "        img = cv2.imread(img_path_v,cv2.IMREAD_COLOR)\n",
        "        img = cv2.resize(img,(SIZE,SIZE))\n",
        "        img = cv2.cvtColor(img,cv2.COLOR_RGB2BGR)\n",
        "        #img = otsu_segmentation(img)\n",
        "        val_image.append(img)\n",
        "        val_label.append(label_v)\n",
        "val_image = np.array(val_image)\n",
        "val_label = np.array(val_label)"
      ],
      "metadata": {
        "id": "RmKpMOvPxIN-"
      },
      "execution_count": null,
      "outputs": []
    },
    {
      "cell_type": "code",
      "source": [
        "from skimage import io\n",
        "img = train_image[123]\n",
        "print(img.shape)\n",
        "#img = cv2.imread(val_image[0])\n",
        "io.imshow(img)\n",
        "plt.show()"
      ],
      "metadata": {
        "id": "5h4wWo5qxKsP"
      },
      "execution_count": null,
      "outputs": []
    },
    {
      "cell_type": "code",
      "source": [
        "le = preprocessing.LabelEncoder()\n",
        "le.fit(train_label)\n",
        "train_labe_encoded = le.transform(train_label)\n",
        "le.fit(val_label)\n",
        "val_label_encoded = le.transform(val_label)"
      ],
      "metadata": {
        "id": "VRiMjEDnxOn2"
      },
      "execution_count": 5,
      "outputs": []
    },
    {
      "cell_type": "code",
      "source": [
        "x_train,y_train,x_test,y_test = train_image,train_labe_encoded,val_image,val_label_encoded"
      ],
      "metadata": {
        "id": "9yr5xPpfxQm9"
      },
      "execution_count": 6,
      "outputs": []
    },
    {
      "cell_type": "code",
      "source": [
        "x_train,x_test = x_train/255.0,x_test/255.0"
      ],
      "metadata": {
        "id": "QQsdKVQvxSV_"
      },
      "execution_count": 7,
      "outputs": []
    },
    {
      "cell_type": "code",
      "source": [
        "y_train_one_hot = to_categorical(y_train)\n",
        "y_test_one_hot = to_categorical(y_test)"
      ],
      "metadata": {
        "id": "hB1VcmtFxV-H"
      },
      "execution_count": 8,
      "outputs": []
    },
    {
      "cell_type": "code",
      "source": [
        "model = efficientnet.EfficientNetB0(weights=None,input_shape=(224,224,3))\n",
        "#model.summary()"
      ],
      "metadata": {
        "id": "zVOia8KgxmCX"
      },
      "execution_count": 8,
      "outputs": []
    },
    {
      "cell_type": "code",
      "source": [
        "model.summary()"
      ],
      "metadata": {
        "id": "7xCLlhc-KN7A"
      },
      "execution_count": null,
      "outputs": []
    },
    {
      "cell_type": "code",
      "source": [
        "out = Flatten()(model.get_layer(index = -4).output)"
      ],
      "metadata": {
        "id": "3OjnlQJK1LyQ"
      },
      "execution_count": 10,
      "outputs": []
    },
    {
      "cell_type": "code",
      "source": [
        "e_model = Model(inputs = model.input,outputs = out)"
      ],
      "metadata": {
        "id": "zwZeD4xPxo0u"
      },
      "execution_count": 11,
      "outputs": []
    },
    {
      "cell_type": "code",
      "source": [
        "del(model)"
      ],
      "metadata": {
        "id": "xFASPzgADzX2"
      },
      "execution_count": 12,
      "outputs": []
    },
    {
      "cell_type": "code",
      "source": [
        "print(\"Feature extraction ...\")\n",
        "prediction = np.array(e_model.predict(x_train))\n",
        "prediction.shape"
      ],
      "metadata": {
        "colab": {
          "base_uri": "https://localhost:8080/"
        },
        "id": "4pOmPeaCxqbW",
        "outputId": "e1825842-a5f9-40ae-8883-1f6cd1d4c910"
      },
      "execution_count": 13,
      "outputs": [
        {
          "output_type": "stream",
          "name": "stdout",
          "text": [
            "Feature extraction ...\n"
          ]
        },
        {
          "output_type": "execute_result",
          "data": {
            "text/plain": [
              "(2523, 62720)"
            ]
          },
          "metadata": {},
          "execution_count": 13
        }
      ]
    },
    {
      "cell_type": "code",
      "source": [
        "Xtrain = np.reshape(prediction, (prediction.shape[0], prediction.shape[1]))"
      ],
      "metadata": {
        "id": "B3FjwTy_xtgn"
      },
      "execution_count": 14,
      "outputs": []
    },
    {
      "cell_type": "code",
      "source": [
        "del(prediction)"
      ],
      "metadata": {
        "id": "02OyukLOCmzN"
      },
      "execution_count": 15,
      "outputs": []
    },
    {
      "cell_type": "code",
      "source": [
        "prediction = np.array(e_model.predict(x_test))"
      ],
      "metadata": {
        "id": "n9OgjEq2xw3O"
      },
      "execution_count": 16,
      "outputs": []
    },
    {
      "cell_type": "code",
      "source": [
        "Xtest = np.reshape(prediction, (prediction.shape[0], prediction.shape[1]))"
      ],
      "metadata": {
        "id": "mdNBC51SxysI"
      },
      "execution_count": 17,
      "outputs": []
    },
    {
      "cell_type": "code",
      "source": [
        "del(prediction)"
      ],
      "metadata": {
        "id": "Oe7IRWw3DsP1"
      },
      "execution_count": 18,
      "outputs": []
    },
    {
      "cell_type": "code",
      "source": [
        "print('\\tFeatures training shape: ', Xtrain.shape)\n",
        "print('\\tFeatures testing shape: ', Xtest.shape)"
      ],
      "metadata": {
        "colab": {
          "base_uri": "https://localhost:8080/"
        },
        "id": "0ajpuUpkx0nW",
        "outputId": "6347f0b9-23a0-4cf1-cd29-3bf850e8fd63"
      },
      "execution_count": 19,
      "outputs": [
        {
          "output_type": "stream",
          "name": "stdout",
          "text": [
            "\tFeatures training shape:  (2523, 62720)\n",
            "\tFeatures testing shape:  (880, 62720)\n"
          ]
        }
      ]
    },
    {
      "cell_type": "code",
      "source": [
        "print(\"Classification with Linear SVM ...\")\n",
        "svm = SVC(kernel='linear')\n",
        "svm.fit(Xtrain, np.ravel(y_train, order='C'))\n",
        "result = svm.predict(Xtest)\n",
        "\n",
        "acc = accuracy_score(result, np.ravel(y_test, order='C'))\n",
        "print(\"\\tAccuracy Linear SVM: %0.4f\" % acc)"
      ],
      "metadata": {
        "colab": {
          "base_uri": "https://localhost:8080/"
        },
        "id": "I_1bEwntx14n",
        "outputId": "fff1aee7-eaef-4f2e-8d35-b3193436eeae"
      },
      "execution_count": null,
      "outputs": [
        {
          "output_type": "stream",
          "name": "stdout",
          "text": [
            "Classification with Linear SVM ...\n"
          ]
        }
      ]
    },
    {
      "cell_type": "code",
      "source": [
        "cm = confusion_matrix(y_test, result, labels=svm.classes_)\n",
        "disp = ConfusionMatrixDisplay(confusion_matrix=cm,display_labels=clf.classes_)\n",
        "disp.plot()\n",
        "plt.show()"
      ],
      "metadata": {
        "id": "8gOAUSpVGy8Y"
      },
      "execution_count": null,
      "outputs": []
    },
    {
      "cell_type": "code",
      "source": [
        "print(classification_report(y_test,result))"
      ],
      "metadata": {
        "id": "UTctu_xfyD6B"
      },
      "execution_count": null,
      "outputs": []
    },
    {
      "cell_type": "code",
      "source": [
        "rf = RandomForestClassifier(n_estimators=50,random_state=42)\n",
        "rf.fit(Xtrain, np.ravel(y_train, order='C'))"
      ],
      "metadata": {
        "colab": {
          "base_uri": "https://localhost:8080/"
        },
        "id": "Xa4LO9im0hob",
        "outputId": "df0ba5af-6aea-432d-a9f8-b1d2fb2f0a26"
      },
      "execution_count": 37,
      "outputs": [
        {
          "output_type": "execute_result",
          "data": {
            "text/plain": [
              "RandomForestClassifier(n_estimators=50, random_state=42)"
            ]
          },
          "metadata": {},
          "execution_count": 37
        }
      ]
    },
    {
      "cell_type": "code",
      "source": [
        "result_rf = rf.predict(Xtest)"
      ],
      "metadata": {
        "id": "qe6EEFhu9OWf"
      },
      "execution_count": 34,
      "outputs": []
    },
    {
      "cell_type": "code",
      "source": [
        "acc = accuracy_score(result_rf, np.ravel(y_test, order='C'))\n",
        "print(\"\\tAccuracy Linear SVM: %0.4f\" % acc)\n",
        "print(confusion_matrix(y_test,result))\n",
        "print(classification_report(y_test,result))"
      ],
      "metadata": {
        "id": "qmzzf2Lc9ZXN"
      },
      "execution_count": null,
      "outputs": []
    },
    {
      "cell_type": "code",
      "source": [
        "plot_confusion_matrix(rf,Xtest,y_test)\n",
        "plt.show()"
      ],
      "metadata": {
        "id": "lXWFUBVC9hti"
      },
      "execution_count": null,
      "outputs": []
    },
    {
      "cell_type": "code",
      "source": [
        ""
      ],
      "metadata": {
        "id": "hesU6-ICIm3L"
      },
      "execution_count": null,
      "outputs": []
    }
  ]
}