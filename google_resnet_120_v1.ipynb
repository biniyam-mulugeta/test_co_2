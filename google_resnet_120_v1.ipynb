{
  "cells": [
    {
      "cell_type": "markdown",
      "metadata": {
        "id": "view-in-github",
        "colab_type": "text"
      },
      "source": [
        "<a href=\"https://colab.research.google.com/github/biniyam-mulugeta/test_co_2/blob/main/google_resnet_120_v1.ipynb\" target=\"_parent\"><img src=\"https://colab.research.google.com/assets/colab-badge.svg\" alt=\"Open In Colab\"/></a>"
      ]
    },
    {
      "cell_type": "code",
      "execution_count": 1,
      "metadata": {
        "colab": {
          "base_uri": "https://localhost:8080/"
        },
        "id": "iKay67830sLd",
        "outputId": "6effd5a4-c328-4558-8e2f-108014b0b10d"
      },
      "outputs": [
        {
          "output_type": "stream",
          "name": "stdout",
          "text": [
            "Drive already mounted at /content/drive; to attempt to forcibly remount, call drive.mount(\"/content/drive\", force_remount=True).\n"
          ]
        }
      ],
      "source": [
        "from google.colab import drive\n",
        "drive.mount('/content/drive')"
      ]
    },
    {
      "cell_type": "code",
      "execution_count": 2,
      "metadata": {
        "id": "F4IQeQww2YbR"
      },
      "outputs": [],
      "source": [
        "import tensorflow as tf\n",
        "import numpy as np \n",
        "import keras\n",
        "from keras.models import Model\n",
        "from keras.layers import Flatten,concatenate,GlobalAveragePooling2D,DepthwiseConv2D,Add#,Dense,Dropout,Conv2D\n",
        "from keras.applications import densenet,mobilenet, mobilenet_v2,efficientnet#densenetmobilenet_v2#,efficientnet,vgg16,densenet\n",
        "from keras.applications import vgg19,resnet\n",
        "#from keras_preprocessing import image\n",
        "#from keras_preprocessing.image import ImageDataGenerator\n",
        "#from keras.utils.all_utils import to_categorical\n",
        "from sklearn import preprocessing\n",
        "from skimage.filters import threshold_otsu\n",
        "import cv2\n",
        "from pathlib import Path\n",
        "import os\n",
        "import glob\n",
        "import matplotlib.pyplot as plt\n",
        "#import seaborn as sns\n",
        "#import zipfile\n",
        "%matplotlib inline"
      ]
    },
    {
      "cell_type": "code",
      "execution_count": 3,
      "metadata": {
        "id": "5cM7Tyuz2YeE"
      },
      "outputs": [],
      "source": [
        "from sklearn.decomposition import PCA\n",
        "from sklearn.svm import SVC\n",
        "from sklearn.naive_bayes import GaussianNB\n",
        "from sklearn.neighbors import KNeighborsClassifier\n",
        "from sklearn.ensemble import ExtraTreesClassifier\n",
        "from sklearn.ensemble import RandomForestClassifier,VotingClassifier,AdaBoostClassifier\n",
        "from sklearn.model_selection import KFold,StratifiedKFold,cross_val_score,GridSearchCV,StratifiedShuffleSplit\n",
        "from sklearn.metrics import classification_report,f1_score,accuracy_score,confusion_matrix,ConfusionMatrixDisplay\n",
        "from skimage import io"
      ]
    },
    {
      "cell_type": "code",
      "execution_count": 4,
      "metadata": {
        "id": "moHXOFs92Ygu"
      },
      "outputs": [],
      "source": [
        "from keras.layers import Flatten,concatenate,GlobalAveragePooling2D,Input,Dense,Dropout,Conv2D,Activation,MaxPooling2D,BatchNormalization\n",
        "from keras.layers import MaxPool2D,AveragePooling2D"
      ]
    },
    {
      "cell_type": "code",
      "execution_count": 5,
      "metadata": {
        "id": "HagreBWc2YjY"
      },
      "outputs": [],
      "source": [
        "import pandas as pd"
      ]
    },
    {
      "cell_type": "code",
      "execution_count": null,
      "metadata": {
        "id": "ytXlp1Ft2YmD",
        "colab": {
          "base_uri": "https://localhost:8080/"
        },
        "outputId": "32f93689-c23e-4613-fd43-b64e6ac3e934"
      },
      "outputs": [
        {
          "output_type": "stream",
          "name": "stdout",
          "text": [
            "/content/drive/My Drive/coffee_dataset/coffee_bd\n",
            "/content/drive/My Drive/coffee_dataset/coffee_bd/107_1.jpg\n",
            "/content/drive/My Drive/coffee_dataset/coffee_bd/107_4.jpg\n",
            "/content/drive/My Drive/coffee_dataset/coffee_bd/107_5.jpg\n",
            "/content/drive/My Drive/coffee_dataset/coffee_bd/106_4.jpg\n",
            "/content/drive/My Drive/coffee_dataset/coffee_bd/106_5.jpg\n",
            "/content/drive/My Drive/coffee_dataset/coffee_bd/106_3.jpg\n",
            "/content/drive/My Drive/coffee_dataset/coffee_bd/106.jpg\n",
            "/content/drive/My Drive/coffee_dataset/coffee_bd/105_2.jpg\n",
            "/content/drive/My Drive/coffee_dataset/coffee_bd/105_3.jpg\n",
            "/content/drive/My Drive/coffee_dataset/coffee_bd/105_1.jpg\n",
            "/content/drive/My Drive/coffee_dataset/coffee_bd/105.jpg\n",
            "/content/drive/My Drive/coffee_dataset/coffee_bd/106_2.jpg\n",
            "/content/drive/My Drive/coffee_dataset/coffee_bd/103_5.jpg\n",
            "/content/drive/My Drive/coffee_dataset/coffee_bd/105_4.jpg\n",
            "/content/drive/My Drive/coffee_dataset/coffee_bd/105_5.jpg\n",
            "/content/drive/My Drive/coffee_dataset/coffee_bd/106_1.jpg\n",
            "/content/drive/My Drive/coffee_dataset/coffee_bd/103_4.jpg\n",
            "/content/drive/My Drive/coffee_dataset/coffee_bd/103_3.jpg\n",
            "/content/drive/My Drive/coffee_dataset/coffee_bd/100_4.jpg\n",
            "/content/drive/My Drive/coffee_dataset/coffee_bd/102_3.jpg\n",
            "/content/drive/My Drive/coffee_dataset/coffee_bd/102_5.jpg\n",
            "/content/drive/My Drive/coffee_dataset/coffee_bd/103.jpg\n",
            "/content/drive/My Drive/coffee_dataset/coffee_bd/103_2.jpg\n",
            "/content/drive/My Drive/coffee_dataset/coffee_bd/102_2.jpg\n",
            "/content/drive/My Drive/coffee_dataset/coffee_bd/102_4.jpg\n",
            "/content/drive/My Drive/coffee_dataset/coffee_bd/102_1.jpg\n",
            "/content/drive/My Drive/coffee_dataset/coffee_bd/102.jpg\n",
            "/content/drive/My Drive/coffee_dataset/coffee_bd/103_1.jpg\n",
            "/content/drive/My Drive/coffee_dataset/coffee_bd/100_5.jpg\n",
            "/content/drive/My Drive/coffee_dataset/coffee_bd/100_3.jpg\n",
            "/content/drive/My Drive/coffee_dataset/coffee_bd/100_2.jpg\n",
            "/content/drive/My Drive/coffee_dataset/coffee_bd/10.jpg\n",
            "/content/drive/My Drive/coffee_dataset/coffee_bd/100_1.jpg\n",
            "/content/drive/My Drive/coffee_dataset/coffee_bd/1.jpg\n",
            "/content/drive/My Drive/coffee_dataset/coffee_bd/100.jpg\n",
            "/content/drive/My Drive/coffee_dataset/coffee_bd/115_1.jpg\n",
            "/content/drive/My Drive/coffee_dataset/coffee_bd/115.jpg\n",
            "/content/drive/My Drive/coffee_dataset/coffee_bd/115_2.jpg\n",
            "/content/drive/My Drive/coffee_dataset/coffee_bd/115_3.jpg\n",
            "/content/drive/My Drive/coffee_dataset/coffee_bd/119_1.jpg\n",
            "/content/drive/My Drive/coffee_dataset/coffee_bd/114_3.jpg\n",
            "/content/drive/My Drive/coffee_dataset/coffee_bd/115_5.jpg\n",
            "/content/drive/My Drive/coffee_dataset/coffee_bd/114_4.jpg\n",
            "/content/drive/My Drive/coffee_dataset/coffee_bd/114_5.jpg\n",
            "/content/drive/My Drive/coffee_dataset/coffee_bd/119.jpg\n",
            "/content/drive/My Drive/coffee_dataset/coffee_bd/115_4.jpg\n",
            "/content/drive/My Drive/coffee_dataset/coffee_bd/114_2.jpg\n",
            "/content/drive/My Drive/coffee_dataset/coffee_bd/113_1.jpg\n",
            "/content/drive/My Drive/coffee_dataset/coffee_bd/113_3.jpg\n",
            "/content/drive/My Drive/coffee_dataset/coffee_bd/113_2.jpg\n",
            "/content/drive/My Drive/coffee_dataset/coffee_bd/113.jpg\n",
            "/content/drive/My Drive/coffee_dataset/coffee_bd/114_1.jpg\n",
            "/content/drive/My Drive/coffee_dataset/coffee_bd/112_3.jpg\n",
            "/content/drive/My Drive/coffee_dataset/coffee_bd/113_5.jpg\n",
            "/content/drive/My Drive/coffee_dataset/coffee_bd/113_4.jpg\n",
            "/content/drive/My Drive/coffee_dataset/coffee_bd/112_5.jpg\n",
            "/content/drive/My Drive/coffee_dataset/coffee_bd/114.jpg\n",
            "/content/drive/My Drive/coffee_dataset/coffee_bd/112_4.jpg\n",
            "/content/drive/My Drive/coffee_dataset/coffee_bd/112_2.jpg\n",
            "/content/drive/My Drive/coffee_dataset/coffee_bd/11.jpg\n",
            "/content/drive/My Drive/coffee_dataset/coffee_bd/110_2.jpg\n",
            "/content/drive/My Drive/coffee_dataset/coffee_bd/110_3.jpg\n",
            "/content/drive/My Drive/coffee_dataset/coffee_bd/110.jpg\n",
            "/content/drive/My Drive/coffee_dataset/coffee_bd/112_1.jpg\n",
            "/content/drive/My Drive/coffee_dataset/coffee_bd/110_1.jpg\n",
            "/content/drive/My Drive/coffee_dataset/coffee_bd/110_4.jpg\n",
            "/content/drive/My Drive/coffee_dataset/coffee_bd/110_5.jpg\n",
            "/content/drive/My Drive/coffee_dataset/coffee_bd/10_5.jpg\n",
            "/content/drive/My Drive/coffee_dataset/coffee_bd/112.jpg\n",
            "/content/drive/My Drive/coffee_dataset/coffee_bd/10_4.jpg\n",
            "/content/drive/My Drive/coffee_dataset/coffee_bd/10_3.jpg\n",
            "/content/drive/My Drive/coffee_dataset/coffee_bd/10_1.jpg\n",
            "/content/drive/My Drive/coffee_dataset/coffee_bd/107_3.jpg\n",
            "/content/drive/My Drive/coffee_dataset/coffee_bd/107_2.jpg\n",
            "/content/drive/My Drive/coffee_dataset/coffee_bd/107.jpg\n",
            "/content/drive/My Drive/coffee_dataset/coffee_bd/10_2.jpg\n",
            "/content/drive/My Drive/coffee_dataset/coffee_bd/128_4.jpg\n",
            "/content/drive/My Drive/coffee_dataset/coffee_bd/128_3.jpg\n",
            "/content/drive/My Drive/coffee_dataset/coffee_bd/127_3.jpg\n",
            "/content/drive/My Drive/coffee_dataset/coffee_bd/127_2.jpg\n",
            "/content/drive/My Drive/coffee_dataset/coffee_bd/127.jpg\n",
            "/content/drive/My Drive/coffee_dataset/coffee_bd/127_1.jpg\n",
            "/content/drive/My Drive/coffee_dataset/coffee_bd/128_2.jpg\n",
            "/content/drive/My Drive/coffee_dataset/coffee_bd/127_5.jpg\n",
            "/content/drive/My Drive/coffee_dataset/coffee_bd/128.jpg\n",
            "/content/drive/My Drive/coffee_dataset/coffee_bd/127_4.jpg\n",
            "/content/drive/My Drive/coffee_dataset/coffee_bd/123_5.jpg\n",
            "/content/drive/My Drive/coffee_dataset/coffee_bd/128_1.jpg\n",
            "/content/drive/My Drive/coffee_dataset/coffee_bd/123_4.jpg\n",
            "/content/drive/My Drive/coffee_dataset/coffee_bd/123_3.jpg\n",
            "/content/drive/My Drive/coffee_dataset/coffee_bd/123.jpg\n",
            "/content/drive/My Drive/coffee_dataset/coffee_bd/122_3.jpg\n",
            "/content/drive/My Drive/coffee_dataset/coffee_bd/122_1.jpg\n",
            "/content/drive/My Drive/coffee_dataset/coffee_bd/122_2.jpg\n",
            "/content/drive/My Drive/coffee_dataset/coffee_bd/123_2.jpg\n",
            "/content/drive/My Drive/coffee_dataset/coffee_bd/122.jpg\n",
            "/content/drive/My Drive/coffee_dataset/coffee_bd/122_5.jpg\n",
            "/content/drive/My Drive/coffee_dataset/coffee_bd/122_4.jpg\n",
            "/content/drive/My Drive/coffee_dataset/coffee_bd/121_4.jpg\n",
            "/content/drive/My Drive/coffee_dataset/coffee_bd/123_1.jpg\n",
            "/content/drive/My Drive/coffee_dataset/coffee_bd/121_5.jpg\n",
            "/content/drive/My Drive/coffee_dataset/coffee_bd/121_3.jpg\n",
            "/content/drive/My Drive/coffee_dataset/coffee_bd/11_2.jpg\n",
            "/content/drive/My Drive/coffee_dataset/coffee_bd/121_2.jpg\n",
            "/content/drive/My Drive/coffee_dataset/coffee_bd/11_3.jpg\n",
            "/content/drive/My Drive/coffee_dataset/coffee_bd/12.jpg\n",
            "/content/drive/My Drive/coffee_dataset/coffee_bd/11_1.jpg\n",
            "/content/drive/My Drive/coffee_dataset/coffee_bd/11_5.jpg\n",
            "/content/drive/My Drive/coffee_dataset/coffee_bd/121_1.jpg\n",
            "/content/drive/My Drive/coffee_dataset/coffee_bd/11_4.jpg\n",
            "/content/drive/My Drive/coffee_dataset/coffee_bd/119_5.jpg\n",
            "/content/drive/My Drive/coffee_dataset/coffee_bd/119_4.jpg\n",
            "/content/drive/My Drive/coffee_dataset/coffee_bd/121.jpg\n",
            "/content/drive/My Drive/coffee_dataset/coffee_bd/119_3.jpg\n",
            "/content/drive/My Drive/coffee_dataset/coffee_bd/119_2.jpg\n",
            "/content/drive/My Drive/coffee_dataset/coffee_bd/137_2.jpg\n",
            "/content/drive/My Drive/coffee_dataset/coffee_bd/137.jpg\n",
            "/content/drive/My Drive/coffee_dataset/coffee_bd/136_5.jpg\n",
            "/content/drive/My Drive/coffee_dataset/coffee_bd/136_4.jpg\n",
            "/content/drive/My Drive/coffee_dataset/coffee_bd/136_3.jpg\n",
            "/content/drive/My Drive/coffee_dataset/coffee_bd/136_1.jpg\n",
            "/content/drive/My Drive/coffee_dataset/coffee_bd/137_1.jpg\n",
            "/content/drive/My Drive/coffee_dataset/coffee_bd/136_2.jpg\n",
            "/content/drive/My Drive/coffee_dataset/coffee_bd/136.jpg\n",
            "/content/drive/My Drive/coffee_dataset/coffee_bd/134_5.jpg\n",
            "/content/drive/My Drive/coffee_dataset/coffee_bd/134_4.jpg\n",
            "/content/drive/My Drive/coffee_dataset/coffee_bd/134_3.jpg\n",
            "/content/drive/My Drive/coffee_dataset/coffee_bd/133_5.jpg\n",
            "/content/drive/My Drive/coffee_dataset/coffee_bd/134.jpg\n",
            "/content/drive/My Drive/coffee_dataset/coffee_bd/133_4.jpg\n",
            "/content/drive/My Drive/coffee_dataset/coffee_bd/133_3.jpg\n",
            "/content/drive/My Drive/coffee_dataset/coffee_bd/134_2.jpg\n",
            "/content/drive/My Drive/coffee_dataset/coffee_bd/133_2.jpg\n",
            "/content/drive/My Drive/coffee_dataset/coffee_bd/133_1.jpg\n",
            "/content/drive/My Drive/coffee_dataset/coffee_bd/133.jpg\n",
            "/content/drive/My Drive/coffee_dataset/coffee_bd/131_4.jpg\n",
            "/content/drive/My Drive/coffee_dataset/coffee_bd/134_1.jpg\n",
            "/content/drive/My Drive/coffee_dataset/coffee_bd/131_5.jpg\n",
            "/content/drive/My Drive/coffee_dataset/coffee_bd/131_3.jpg\n",
            "/content/drive/My Drive/coffee_dataset/coffee_bd/130_2.jpg\n",
            "/content/drive/My Drive/coffee_dataset/coffee_bd/130_3.jpg\n",
            "/content/drive/My Drive/coffee_dataset/coffee_bd/130.jpg\n",
            "/content/drive/My Drive/coffee_dataset/coffee_bd/130_1.jpg\n",
            "/content/drive/My Drive/coffee_dataset/coffee_bd/13.jpg\n",
            "/content/drive/My Drive/coffee_dataset/coffee_bd/131_2.jpg\n",
            "/content/drive/My Drive/coffee_dataset/coffee_bd/131.jpg\n",
            "/content/drive/My Drive/coffee_dataset/coffee_bd/130_4.jpg\n",
            "/content/drive/My Drive/coffee_dataset/coffee_bd/130_5.jpg\n",
            "/content/drive/My Drive/coffee_dataset/coffee_bd/131_1.jpg\n",
            "/content/drive/My Drive/coffee_dataset/coffee_bd/12_5.jpg\n",
            "/content/drive/My Drive/coffee_dataset/coffee_bd/12_4.jpg\n",
            "/content/drive/My Drive/coffee_dataset/coffee_bd/129_2.jpg\n",
            "/content/drive/My Drive/coffee_dataset/coffee_bd/129_3.jpg\n",
            "/content/drive/My Drive/coffee_dataset/coffee_bd/129_1.jpg\n",
            "/content/drive/My Drive/coffee_dataset/coffee_bd/12_1.jpg\n",
            "/content/drive/My Drive/coffee_dataset/coffee_bd/12_3.jpg\n",
            "/content/drive/My Drive/coffee_dataset/coffee_bd/129_5.jpg\n",
            "/content/drive/My Drive/coffee_dataset/coffee_bd/129_4.jpg\n",
            "/content/drive/My Drive/coffee_dataset/coffee_bd/129.jpg\n",
            "/content/drive/My Drive/coffee_dataset/coffee_bd/128_5.jpg\n",
            "/content/drive/My Drive/coffee_dataset/coffee_bd/12_2.jpg\n",
            "/content/drive/My Drive/coffee_dataset/coffee_bd/141_1.jpg\n",
            "/content/drive/My Drive/coffee_dataset/coffee_bd/141_4.jpg\n",
            "/content/drive/My Drive/coffee_dataset/coffee_bd/141_2.jpg\n",
            "/content/drive/My Drive/coffee_dataset/coffee_bd/141.jpg\n",
            "/content/drive/My Drive/coffee_dataset/coffee_bd/140_5.jpg\n",
            "/content/drive/My Drive/coffee_dataset/coffee_bd/140_4.jpg\n",
            "/content/drive/My Drive/coffee_dataset/coffee_bd/140_3.jpg\n",
            "/content/drive/My Drive/coffee_dataset/coffee_bd/140_2.jpg\n",
            "/content/drive/My Drive/coffee_dataset/coffee_bd/140_1.jpg\n",
            "/content/drive/My Drive/coffee_dataset/coffee_bd/141_3.jpg\n",
            "/content/drive/My Drive/coffee_dataset/coffee_bd/140.jpg\n",
            "/content/drive/My Drive/coffee_dataset/coffee_bd/14.jpg\n",
            "/content/drive/My Drive/coffee_dataset/coffee_bd/137_3.jpg\n",
            "/content/drive/My Drive/coffee_dataset/coffee_bd/139_2.jpg\n",
            "/content/drive/My Drive/coffee_dataset/coffee_bd/139_3.jpg\n",
            "/content/drive/My Drive/coffee_dataset/coffee_bd/139.jpg\n",
            "/content/drive/My Drive/coffee_dataset/coffee_bd/139_1.jpg\n",
            "/content/drive/My Drive/coffee_dataset/coffee_bd/13_5.jpg\n",
            "/content/drive/My Drive/coffee_dataset/coffee_bd/13_4.jpg\n",
            "/content/drive/My Drive/coffee_dataset/coffee_bd/13_3.jpg\n",
            "/content/drive/My Drive/coffee_dataset/coffee_bd/13_2.jpg\n",
            "/content/drive/My Drive/coffee_dataset/coffee_bd/139_5.jpg\n",
            "/content/drive/My Drive/coffee_dataset/coffee_bd/139_4.jpg\n",
            "/content/drive/My Drive/coffee_dataset/coffee_bd/137_5.jpg\n",
            "/content/drive/My Drive/coffee_dataset/coffee_bd/13_1.jpg\n",
            "/content/drive/My Drive/coffee_dataset/coffee_bd/137_4.jpg\n",
            "/content/drive/My Drive/coffee_dataset/coffee_bd/152_5.jpg\n",
            "/content/drive/My Drive/coffee_dataset/coffee_bd/151_2.jpg\n",
            "/content/drive/My Drive/coffee_dataset/coffee_bd/152_2.jpg\n",
            "/content/drive/My Drive/coffee_dataset/coffee_bd/151_1.jpg\n",
            "/content/drive/My Drive/coffee_dataset/coffee_bd/152.jpg\n",
            "/content/drive/My Drive/coffee_dataset/coffee_bd/151_4.jpg\n",
            "/content/drive/My Drive/coffee_dataset/coffee_bd/152_4.jpg\n",
            "/content/drive/My Drive/coffee_dataset/coffee_bd/151_5.jpg\n",
            "/content/drive/My Drive/coffee_dataset/coffee_bd/151.jpg\n",
            "/content/drive/My Drive/coffee_dataset/coffee_bd/14_3.jpg\n",
            "/content/drive/My Drive/coffee_dataset/coffee_bd/14_2.jpg\n",
            "/content/drive/My Drive/coffee_dataset/coffee_bd/14_1.jpg\n",
            "/content/drive/My Drive/coffee_dataset/coffee_bd/150_1.jpg\n",
            "/content/drive/My Drive/coffee_dataset/coffee_bd/150_5.jpg\n",
            "/content/drive/My Drive/coffee_dataset/coffee_bd/150_3.jpg\n",
            "/content/drive/My Drive/coffee_dataset/coffee_bd/150_2.jpg\n",
            "/content/drive/My Drive/coffee_dataset/coffee_bd/14_5.jpg\n",
            "/content/drive/My Drive/coffee_dataset/coffee_bd/150.jpg\n",
            "/content/drive/My Drive/coffee_dataset/coffee_bd/150_4.jpg\n",
            "/content/drive/My Drive/coffee_dataset/coffee_bd/14_4.jpg\n",
            "/content/drive/My Drive/coffee_dataset/coffee_bd/147_5.jpg\n",
            "/content/drive/My Drive/coffee_dataset/coffee_bd/147_2.jpg\n",
            "/content/drive/My Drive/coffee_dataset/coffee_bd/147_1.jpg\n",
            "/content/drive/My Drive/coffee_dataset/coffee_bd/142_3.jpg\n",
            "/content/drive/My Drive/coffee_dataset/coffee_bd/147.jpg\n",
            "/content/drive/My Drive/coffee_dataset/coffee_bd/142_2.jpg\n",
            "/content/drive/My Drive/coffee_dataset/coffee_bd/142_5.jpg\n",
            "/content/drive/My Drive/coffee_dataset/coffee_bd/142_4.jpg\n",
            "/content/drive/My Drive/coffee_dataset/coffee_bd/142_1.jpg\n",
            "/content/drive/My Drive/coffee_dataset/coffee_bd/147_4.jpg\n",
            "/content/drive/My Drive/coffee_dataset/coffee_bd/147_3.jpg\n",
            "/content/drive/My Drive/coffee_dataset/coffee_bd/142.jpg\n",
            "/content/drive/My Drive/coffee_dataset/coffee_bd/141_5.jpg\n",
            "/content/drive/My Drive/coffee_dataset/coffee_bd/168_1.jpg\n",
            "/content/drive/My Drive/coffee_dataset/coffee_bd/168_2.jpg\n",
            "/content/drive/My Drive/coffee_dataset/coffee_bd/168_3.jpg\n",
            "/content/drive/My Drive/coffee_dataset/coffee_bd/168_5.jpg\n",
            "/content/drive/My Drive/coffee_dataset/coffee_bd/168.jpg\n",
            "/content/drive/My Drive/coffee_dataset/coffee_bd/165_3.jpg\n",
            "/content/drive/My Drive/coffee_dataset/coffee_bd/165_2.jpg\n",
            "/content/drive/My Drive/coffee_dataset/coffee_bd/165_1.jpg\n",
            "/content/drive/My Drive/coffee_dataset/coffee_bd/165_5.jpg\n",
            "/content/drive/My Drive/coffee_dataset/coffee_bd/168_4.jpg\n",
            "/content/drive/My Drive/coffee_dataset/coffee_bd/165_4.jpg\n",
            "/content/drive/My Drive/coffee_dataset/coffee_bd/165.jpg\n",
            "/content/drive/My Drive/coffee_dataset/coffee_bd/164.jpg\n",
            "/content/drive/My Drive/coffee_dataset/coffee_bd/164_2.jpg\n",
            "/content/drive/My Drive/coffee_dataset/coffee_bd/164_1.jpg\n",
            "/content/drive/My Drive/coffee_dataset/coffee_bd/163_3.jpg\n",
            "/content/drive/My Drive/coffee_dataset/coffee_bd/164_5.jpg\n",
            "/content/drive/My Drive/coffee_dataset/coffee_bd/164_3.jpg\n",
            "/content/drive/My Drive/coffee_dataset/coffee_bd/163_1.jpg\n",
            "/content/drive/My Drive/coffee_dataset/coffee_bd/163_2.jpg\n",
            "/content/drive/My Drive/coffee_dataset/coffee_bd/163_5.jpg\n",
            "/content/drive/My Drive/coffee_dataset/coffee_bd/164_4.jpg\n",
            "/content/drive/My Drive/coffee_dataset/coffee_bd/163_4.jpg\n",
            "/content/drive/My Drive/coffee_dataset/coffee_bd/163.jpg\n",
            "/content/drive/My Drive/coffee_dataset/coffee_bd/155_3.jpg\n",
            "/content/drive/My Drive/coffee_dataset/coffee_bd/155_2.jpg\n",
            "/content/drive/My Drive/coffee_dataset/coffee_bd/155_1.jpg\n",
            "/content/drive/My Drive/coffee_dataset/coffee_bd/155.jpg\n",
            "/content/drive/My Drive/coffee_dataset/coffee_bd/155_5.jpg\n",
            "/content/drive/My Drive/coffee_dataset/coffee_bd/153_3.jpg\n",
            "/content/drive/My Drive/coffee_dataset/coffee_bd/153_1.jpg\n",
            "/content/drive/My Drive/coffee_dataset/coffee_bd/153_2.jpg\n",
            "/content/drive/My Drive/coffee_dataset/coffee_bd/153_4.jpg\n",
            "/content/drive/My Drive/coffee_dataset/coffee_bd/155_4.jpg\n",
            "/content/drive/My Drive/coffee_dataset/coffee_bd/153_5.jpg\n",
            "/content/drive/My Drive/coffee_dataset/coffee_bd/153.jpg\n",
            "/content/drive/My Drive/coffee_dataset/coffee_bd/152_1.jpg\n",
            "/content/drive/My Drive/coffee_dataset/coffee_bd/152_3.jpg\n",
            "/content/drive/My Drive/coffee_dataset/coffee_bd/151_3.jpg\n",
            "/content/drive/My Drive/coffee_dataset/coffee_bd/175_4.jpg\n",
            "/content/drive/My Drive/coffee_dataset/coffee_bd/175_3.jpg\n",
            "/content/drive/My Drive/coffee_dataset/coffee_bd/175_1.jpg\n",
            "/content/drive/My Drive/coffee_dataset/coffee_bd/175.jpg\n",
            "/content/drive/My Drive/coffee_dataset/coffee_bd/173_2.jpg\n",
            "/content/drive/My Drive/coffee_dataset/coffee_bd/173_3.jpg\n",
            "/content/drive/My Drive/coffee_dataset/coffee_bd/173_1.jpg\n",
            "/content/drive/My Drive/coffee_dataset/coffee_bd/173.jpg\n",
            "/content/drive/My Drive/coffee_dataset/coffee_bd/173_5.jpg\n",
            "/content/drive/My Drive/coffee_dataset/coffee_bd/173_4.jpg\n",
            "/content/drive/My Drive/coffee_dataset/coffee_bd/175_2.jpg\n",
            "/content/drive/My Drive/coffee_dataset/coffee_bd/172_5.jpg\n",
            "/content/drive/My Drive/coffee_dataset/coffee_bd/172_4.jpg\n",
            "/content/drive/My Drive/coffee_dataset/coffee_bd/172.jpg\n",
            "/content/drive/My Drive/coffee_dataset/coffee_bd/171_3.jpg\n",
            "/content/drive/My Drive/coffee_dataset/coffee_bd/172_1.jpg\n",
            "/content/drive/My Drive/coffee_dataset/coffee_bd/172_3.jpg\n",
            "/content/drive/My Drive/coffee_dataset/coffee_bd/171_1.jpg\n",
            "/content/drive/My Drive/coffee_dataset/coffee_bd/171.jpg\n",
            "/content/drive/My Drive/coffee_dataset/coffee_bd/171_2.jpg\n",
            "/content/drive/My Drive/coffee_dataset/coffee_bd/171_4.jpg\n",
            "/content/drive/My Drive/coffee_dataset/coffee_bd/171_5.jpg\n",
            "/content/drive/My Drive/coffee_dataset/coffee_bd/172_2.jpg\n",
            "/content/drive/My Drive/coffee_dataset/coffee_bd/170_5.jpg\n",
            "/content/drive/My Drive/coffee_dataset/coffee_bd/170_4.jpg\n",
            "/content/drive/My Drive/coffee_dataset/coffee_bd/17.jpg\n",
            "/content/drive/My Drive/coffee_dataset/coffee_bd/170_2.jpg\n",
            "/content/drive/My Drive/coffee_dataset/coffee_bd/170_1.jpg\n",
            "/content/drive/My Drive/coffee_dataset/coffee_bd/170.jpg\n",
            "/content/drive/My Drive/coffee_dataset/coffee_bd/169_3.jpg\n",
            "/content/drive/My Drive/coffee_dataset/coffee_bd/169_2.jpg\n",
            "/content/drive/My Drive/coffee_dataset/coffee_bd/169_5.jpg\n",
            "/content/drive/My Drive/coffee_dataset/coffee_bd/169_4.jpg\n",
            "/content/drive/My Drive/coffee_dataset/coffee_bd/170_3.jpg\n",
            "/content/drive/My Drive/coffee_dataset/coffee_bd/169_1.jpg\n",
            "/content/drive/My Drive/coffee_dataset/coffee_bd/169.jpg\n",
            "/content/drive/My Drive/coffee_dataset/coffee_bd/189.jpg\n",
            "/content/drive/My Drive/coffee_dataset/coffee_bd/189_5.jpg\n",
            "/content/drive/My Drive/coffee_dataset/coffee_bd/187_3.jpg\n",
            "/content/drive/My Drive/coffee_dataset/coffee_bd/189_4.jpg\n",
            "/content/drive/My Drive/coffee_dataset/coffee_bd/187_5.jpg\n",
            "/content/drive/My Drive/coffee_dataset/coffee_bd/18_1.jpg\n",
            "/content/drive/My Drive/coffee_dataset/coffee_bd/187_4.jpg\n",
            "/content/drive/My Drive/coffee_dataset/coffee_bd/187_2.jpg\n",
            "/content/drive/My Drive/coffee_dataset/coffee_bd/182_3.jpg\n",
            "/content/drive/My Drive/coffee_dataset/coffee_bd/187_1.jpg\n",
            "/content/drive/My Drive/coffee_dataset/coffee_bd/182_2.jpg\n",
            "/content/drive/My Drive/coffee_dataset/coffee_bd/182.jpg\n",
            "/content/drive/My Drive/coffee_dataset/coffee_bd/182_1.jpg\n",
            "/content/drive/My Drive/coffee_dataset/coffee_bd/182_5.jpg\n",
            "/content/drive/My Drive/coffee_dataset/coffee_bd/182_4.jpg\n",
            "/content/drive/My Drive/coffee_dataset/coffee_bd/181_5.jpg\n",
            "/content/drive/My Drive/coffee_dataset/coffee_bd/181_4.jpg\n",
            "/content/drive/My Drive/coffee_dataset/coffee_bd/187.jpg\n",
            "/content/drive/My Drive/coffee_dataset/coffee_bd/181_3.jpg\n",
            "/content/drive/My Drive/coffee_dataset/coffee_bd/181_2.jpg\n",
            "/content/drive/My Drive/coffee_dataset/coffee_bd/18.jpg\n",
            "/content/drive/My Drive/coffee_dataset/coffee_bd/180_3.jpg\n",
            "/content/drive/My Drive/coffee_dataset/coffee_bd/180_2.jpg\n",
            "/content/drive/My Drive/coffee_dataset/coffee_bd/180.jpg\n",
            "/content/drive/My Drive/coffee_dataset/coffee_bd/181_1.jpg\n",
            "/content/drive/My Drive/coffee_dataset/coffee_bd/180_1.jpg\n",
            "/content/drive/My Drive/coffee_dataset/coffee_bd/180_4.jpg\n",
            "/content/drive/My Drive/coffee_dataset/coffee_bd/180_5.jpg\n",
            "/content/drive/My Drive/coffee_dataset/coffee_bd/17_5.jpg\n",
            "/content/drive/My Drive/coffee_dataset/coffee_bd/181.jpg\n",
            "/content/drive/My Drive/coffee_dataset/coffee_bd/17_4.jpg\n",
            "/content/drive/My Drive/coffee_dataset/coffee_bd/17_3.jpg\n",
            "/content/drive/My Drive/coffee_dataset/coffee_bd/17_1.jpg\n",
            "/content/drive/My Drive/coffee_dataset/coffee_bd/179_3.jpg\n",
            "/content/drive/My Drive/coffee_dataset/coffee_bd/179_2.jpg\n",
            "/content/drive/My Drive/coffee_dataset/coffee_bd/179.jpg\n",
            "/content/drive/My Drive/coffee_dataset/coffee_bd/179_5.jpg\n",
            "/content/drive/My Drive/coffee_dataset/coffee_bd/179_1.jpg\n",
            "/content/drive/My Drive/coffee_dataset/coffee_bd/179_4.jpg\n",
            "/content/drive/My Drive/coffee_dataset/coffee_bd/175_5.jpg\n",
            "/content/drive/My Drive/coffee_dataset/coffee_bd/17_2.jpg\n",
            "/content/drive/My Drive/coffee_dataset/coffee_bd/197_5.jpg\n",
            "/content/drive/My Drive/coffee_dataset/coffee_bd/197_4.jpg\n",
            "/content/drive/My Drive/coffee_dataset/coffee_bd/196_5.jpg\n",
            "/content/drive/My Drive/coffee_dataset/coffee_bd/1_1.jpg\n",
            "/content/drive/My Drive/coffee_dataset/coffee_bd/196_4.jpg\n",
            "/content/drive/My Drive/coffee_dataset/coffee_bd/196_2.jpg\n",
            "/content/drive/My Drive/coffee_dataset/coffee_bd/195_3.jpg\n",
            "/content/drive/My Drive/coffee_dataset/coffee_bd/195_1.jpg\n",
            "/content/drive/My Drive/coffee_dataset/coffee_bd/195_2.jpg\n",
            "/content/drive/My Drive/coffee_dataset/coffee_bd/194_3.jpg\n",
            "/content/drive/My Drive/coffee_dataset/coffee_bd/195.jpg\n",
            "/content/drive/My Drive/coffee_dataset/coffee_bd/196_1.jpg\n",
            "/content/drive/My Drive/coffee_dataset/coffee_bd/196.jpg\n",
            "/content/drive/My Drive/coffee_dataset/coffee_bd/195_4.jpg\n",
            "/content/drive/My Drive/coffee_dataset/coffee_bd/195_5.jpg\n",
            "/content/drive/My Drive/coffee_dataset/coffee_bd/194_5.jpg\n",
            "/content/drive/My Drive/coffee_dataset/coffee_bd/194_4.jpg\n",
            "/content/drive/My Drive/coffee_dataset/coffee_bd/194_2.jpg\n",
            "/content/drive/My Drive/coffee_dataset/coffee_bd/193_3.jpg\n",
            "/content/drive/My Drive/coffee_dataset/coffee_bd/193.jpg\n",
            "/content/drive/My Drive/coffee_dataset/coffee_bd/193_2.jpg\n",
            "/content/drive/My Drive/coffee_dataset/coffee_bd/194_1.jpg\n",
            "/content/drive/My Drive/coffee_dataset/coffee_bd/192_3.jpg\n",
            "/content/drive/My Drive/coffee_dataset/coffee_bd/193_1.jpg\n",
            "/content/drive/My Drive/coffee_dataset/coffee_bd/193_5.jpg\n",
            "/content/drive/My Drive/coffee_dataset/coffee_bd/193_4.jpg\n",
            "/content/drive/My Drive/coffee_dataset/coffee_bd/192_5.jpg\n",
            "/content/drive/My Drive/coffee_dataset/coffee_bd/194.jpg\n",
            "/content/drive/My Drive/coffee_dataset/coffee_bd/192_4.jpg\n",
            "/content/drive/My Drive/coffee_dataset/coffee_bd/192_2.jpg\n",
            "/content/drive/My Drive/coffee_dataset/coffee_bd/192.jpg\n",
            "/content/drive/My Drive/coffee_dataset/coffee_bd/190_3.jpg\n",
            "/content/drive/My Drive/coffee_dataset/coffee_bd/190_2.jpg\n",
            "/content/drive/My Drive/coffee_dataset/coffee_bd/192_1.jpg\n",
            "/content/drive/My Drive/coffee_dataset/coffee_bd/190_1.jpg\n",
            "/content/drive/My Drive/coffee_dataset/coffee_bd/190.jpg\n",
            "/content/drive/My Drive/coffee_dataset/coffee_bd/190_5.jpg\n",
            "/content/drive/My Drive/coffee_dataset/coffee_bd/190_4.jpg\n",
            "/content/drive/My Drive/coffee_dataset/coffee_bd/18_5.jpg\n",
            "/content/drive/My Drive/coffee_dataset/coffee_bd/18_4.jpg\n",
            "/content/drive/My Drive/coffee_dataset/coffee_bd/18_3.jpg\n",
            "/content/drive/My Drive/coffee_dataset/coffee_bd/189_3.jpg\n",
            "/content/drive/My Drive/coffee_dataset/coffee_bd/189_2.jpg\n",
            "/content/drive/My Drive/coffee_dataset/coffee_bd/189_1.jpg\n",
            "/content/drive/My Drive/coffee_dataset/coffee_bd/18_2.jpg\n",
            "/content/drive/My Drive/coffee_dataset/coffee_bd/215_2.jpg\n",
            "/content/drive/My Drive/coffee_dataset/coffee_bd/215.jpg\n",
            "/content/drive/My Drive/coffee_dataset/coffee_bd/214_5.jpg\n",
            "/content/drive/My Drive/coffee_dataset/coffee_bd/214_4.jpg\n",
            "/content/drive/My Drive/coffee_dataset/coffee_bd/214_2.jpg\n",
            "/content/drive/My Drive/coffee_dataset/coffee_bd/214_3.jpg\n",
            "/content/drive/My Drive/coffee_dataset/coffee_bd/215_1.jpg\n",
            "/content/drive/My Drive/coffee_dataset/coffee_bd/214.jpg\n",
            "/content/drive/My Drive/coffee_dataset/coffee_bd/214_1.jpg\n",
            "/content/drive/My Drive/coffee_dataset/coffee_bd/213_4.jpg\n",
            "/content/drive/My Drive/coffee_dataset/coffee_bd/215_.jpg\n",
            "/content/drive/My Drive/coffee_dataset/coffee_bd/213_5.jpg\n",
            "/content/drive/My Drive/coffee_dataset/coffee_bd/213_3.jpg\n",
            "/content/drive/My Drive/coffee_dataset/coffee_bd/212.jpg\n",
            "/content/drive/My Drive/coffee_dataset/coffee_bd/213.jpg\n",
            "/content/drive/My Drive/coffee_dataset/coffee_bd/212_3.jpg\n",
            "/content/drive/My Drive/coffee_dataset/coffee_bd/212_2.jpg\n",
            "/content/drive/My Drive/coffee_dataset/coffee_bd/213_2.jpg\n",
            "/content/drive/My Drive/coffee_dataset/coffee_bd/212_1.jpg\n",
            "/content/drive/My Drive/coffee_dataset/coffee_bd/212_5.jpg\n",
            "/content/drive/My Drive/coffee_dataset/coffee_bd/212_4.jpg\n",
            "/content/drive/My Drive/coffee_dataset/coffee_bd/211_5.jpg\n",
            "/content/drive/My Drive/coffee_dataset/coffee_bd/213_1.jpg\n",
            "/content/drive/My Drive/coffee_dataset/coffee_bd/211_4.jpg\n",
            "/content/drive/My Drive/coffee_dataset/coffee_bd/211_3.jpg\n",
            "/content/drive/My Drive/coffee_dataset/coffee_bd/211.jpg\n",
            "/content/drive/My Drive/coffee_dataset/coffee_bd/210_4.jpg\n",
            "/content/drive/My Drive/coffee_dataset/coffee_bd/210_5.jpg\n",
            "/content/drive/My Drive/coffee_dataset/coffee_bd/210_3.jpg\n",
            "/content/drive/My Drive/coffee_dataset/coffee_bd/210_2.jpg\n",
            "/content/drive/My Drive/coffee_dataset/coffee_bd/211_2.jpg\n",
            "/content/drive/My Drive/coffee_dataset/coffee_bd/210.jpg\n",
            "/content/drive/My Drive/coffee_dataset/coffee_bd/210_1.jpg\n",
            "/content/drive/My Drive/coffee_dataset/coffee_bd/20_5.jpg\n",
            "/content/drive/My Drive/coffee_dataset/coffee_bd/211_1.jpg\n",
            "/content/drive/My Drive/coffee_dataset/coffee_bd/20_4.jpg\n",
            "/content/drive/My Drive/coffee_dataset/coffee_bd/20_3.jpg\n",
            "/content/drive/My Drive/coffee_dataset/coffee_bd/209_3.jpg\n",
            "/content/drive/My Drive/coffee_dataset/coffee_bd/209.jpg\n",
            "/content/drive/My Drive/coffee_dataset/coffee_bd/209_1.jpg\n",
            "/content/drive/My Drive/coffee_dataset/coffee_bd/209_2.jpg\n",
            "/content/drive/My Drive/coffee_dataset/coffee_bd/20_2.jpg\n",
            "/content/drive/My Drive/coffee_dataset/coffee_bd/205_3.jpg\n",
            "/content/drive/My Drive/coffee_dataset/coffee_bd/209_5.jpg\n",
            "/content/drive/My Drive/coffee_dataset/coffee_bd/209_4.jpg\n",
            "/content/drive/My Drive/coffee_dataset/coffee_bd/205_5.jpg\n",
            "/content/drive/My Drive/coffee_dataset/coffee_bd/20_1.jpg\n",
            "/content/drive/My Drive/coffee_dataset/coffee_bd/205_4.jpg\n",
            "/content/drive/My Drive/coffee_dataset/coffee_bd/205_2.jpg\n",
            "/content/drive/My Drive/coffee_dataset/coffee_bd/203_5.jpg\n",
            "/content/drive/My Drive/coffee_dataset/coffee_bd/203_4.jpg\n",
            "/content/drive/My Drive/coffee_dataset/coffee_bd/203_3.jpg\n",
            "/content/drive/My Drive/coffee_dataset/coffee_bd/203_2.jpg\n",
            "/content/drive/My Drive/coffee_dataset/coffee_bd/203_1.jpg\n",
            "/content/drive/My Drive/coffee_dataset/coffee_bd/205_1.jpg\n",
            "/content/drive/My Drive/coffee_dataset/coffee_bd/202_5.jpg\n",
            "/content/drive/My Drive/coffee_dataset/coffee_bd/203.jpg\n",
            "/content/drive/My Drive/coffee_dataset/coffee_bd/202_4.jpg\n",
            "/content/drive/My Drive/coffee_dataset/coffee_bd/205.jpg\n",
            "/content/drive/My Drive/coffee_dataset/coffee_bd/202_3.jpg\n",
            "/content/drive/My Drive/coffee_dataset/coffee_bd/202_2.jpg\n",
            "/content/drive/My Drive/coffee_dataset/coffee_bd/20.jpg\n",
            "/content/drive/My Drive/coffee_dataset/coffee_bd/201_2.jpg\n",
            "/content/drive/My Drive/coffee_dataset/coffee_bd/201_3.jpg\n",
            "/content/drive/My Drive/coffee_dataset/coffee_bd/201_1.jpg\n",
            "/content/drive/My Drive/coffee_dataset/coffee_bd/202_1.jpg\n",
            "/content/drive/My Drive/coffee_dataset/coffee_bd/201.jpg\n",
            "/content/drive/My Drive/coffee_dataset/coffee_bd/201_5.jpg\n",
            "/content/drive/My Drive/coffee_dataset/coffee_bd/201_4.jpg\n",
            "/content/drive/My Drive/coffee_dataset/coffee_bd/1_4.jpg\n",
            "/content/drive/My Drive/coffee_dataset/coffee_bd/202.jpg\n",
            "/content/drive/My Drive/coffee_dataset/coffee_bd/1_5.jpg\n",
            "/content/drive/My Drive/coffee_dataset/coffee_bd/1_3.jpg\n",
            "/content/drive/My Drive/coffee_dataset/coffee_bd/197_2.jpg\n",
            "/content/drive/My Drive/coffee_dataset/coffee_bd/197_3.jpg\n",
            "/content/drive/My Drive/coffee_dataset/coffee_bd/197.jpg\n",
            "/content/drive/My Drive/coffee_dataset/coffee_bd/196_3.jpg\n",
            "/content/drive/My Drive/coffee_dataset/coffee_bd/197_1.jpg\n",
            "/content/drive/My Drive/coffee_dataset/coffee_bd/1_2.jpg\n",
            "/content/drive/My Drive/coffee_dataset/coffee_bd/269_3.jpg\n",
            "/content/drive/My Drive/coffee_dataset/coffee_bd/266_1.jpg\n",
            "/content/drive/My Drive/coffee_dataset/coffee_bd/266.jpg\n",
            "/content/drive/My Drive/coffee_dataset/coffee_bd/266_4.jpg\n",
            "/content/drive/My Drive/coffee_dataset/coffee_bd/266_5.jpg\n",
            "/content/drive/My Drive/coffee_dataset/coffee_bd/263_5.jpg\n",
            "/content/drive/My Drive/coffee_dataset/coffee_bd/263_2.jpg\n",
            "/content/drive/My Drive/coffee_dataset/coffee_bd/263_4.jpg\n",
            "/content/drive/My Drive/coffee_dataset/coffee_bd/263_1.jpg\n",
            "/content/drive/My Drive/coffee_dataset/coffee_bd/263.jpg\n",
            "/content/drive/My Drive/coffee_dataset/coffee_bd/262_5.jpg\n",
            "/content/drive/My Drive/coffee_dataset/coffee_bd/262_1.jpg\n",
            "/content/drive/My Drive/coffee_dataset/coffee_bd/262_4.jpg\n",
            "/content/drive/My Drive/coffee_dataset/coffee_bd/263_3.jpg\n",
            "/content/drive/My Drive/coffee_dataset/coffee_bd/262_3.jpg\n",
            "/content/drive/My Drive/coffee_dataset/coffee_bd/262_2.jpg\n",
            "/content/drive/My Drive/coffee_dataset/coffee_bd/262.jpg\n",
            "/content/drive/My Drive/coffee_dataset/coffee_bd/260_5.jpg\n",
            "/content/drive/My Drive/coffee_dataset/coffee_bd/260_1.jpg\n",
            "/content/drive/My Drive/coffee_dataset/coffee_bd/260_4.jpg\n",
            "/content/drive/My Drive/coffee_dataset/coffee_bd/260.jpg\n",
            "/content/drive/My Drive/coffee_dataset/coffee_bd/258_5.jpg\n",
            "/content/drive/My Drive/coffee_dataset/coffee_bd/26.jpg\n",
            "/content/drive/My Drive/coffee_dataset/coffee_bd/258_4.jpg\n",
            "/content/drive/My Drive/coffee_dataset/coffee_bd/258_3.jpg\n",
            "/content/drive/My Drive/coffee_dataset/coffee_bd/260_3.jpg\n",
            "/content/drive/My Drive/coffee_dataset/coffee_bd/258_2.jpg\n",
            "/content/drive/My Drive/coffee_dataset/coffee_bd/258_1.jpg\n",
            "/content/drive/My Drive/coffee_dataset/coffee_bd/260_2.jpg\n",
            "/content/drive/My Drive/coffee_dataset/coffee_bd/258.jpg\n",
            "/content/drive/My Drive/coffee_dataset/coffee_bd/255.jpg\n",
            "/content/drive/My Drive/coffee_dataset/coffee_bd/255_1.jpg\n",
            "/content/drive/My Drive/coffee_dataset/coffee_bd/255_2.jpg\n",
            "/content/drive/My Drive/coffee_dataset/coffee_bd/255_3.jpg\n",
            "/content/drive/My Drive/coffee_dataset/coffee_bd/255_5.jpg\n",
            "/content/drive/My Drive/coffee_dataset/coffee_bd/255_4.jpg\n",
            "/content/drive/My Drive/coffee_dataset/coffee_bd/254_3.jpg\n",
            "/content/drive/My Drive/coffee_dataset/coffee_bd/254_2.jpg\n",
            "/content/drive/My Drive/coffee_dataset/coffee_bd/254_1.jpg\n",
            "/content/drive/My Drive/coffee_dataset/coffee_bd/254_5.jpg\n",
            "/content/drive/My Drive/coffee_dataset/coffee_bd/254_4.jpg\n",
            "/content/drive/My Drive/coffee_dataset/coffee_bd/254.jpg\n",
            "/content/drive/My Drive/coffee_dataset/coffee_bd/23_3.jpg\n",
            "/content/drive/My Drive/coffee_dataset/coffee_bd/23_1.jpg\n",
            "/content/drive/My Drive/coffee_dataset/coffee_bd/23_2.jpg\n",
            "/content/drive/My Drive/coffee_dataset/coffee_bd/253.jpg\n",
            "/content/drive/My Drive/coffee_dataset/coffee_bd/253_5.jpg\n",
            "/content/drive/My Drive/coffee_dataset/coffee_bd/253_1.jpg\n",
            "/content/drive/My Drive/coffee_dataset/coffee_bd/253_3.jpg\n",
            "/content/drive/My Drive/coffee_dataset/coffee_bd/253_2.jpg\n",
            "/content/drive/My Drive/coffee_dataset/coffee_bd/23_5.jpg\n",
            "/content/drive/My Drive/coffee_dataset/coffee_bd/253_4.jpg\n",
            "/content/drive/My Drive/coffee_dataset/coffee_bd/23_4.jpg\n",
            "/content/drive/My Drive/coffee_dataset/coffee_bd/235_5.jpg\n",
            "/content/drive/My Drive/coffee_dataset/coffee_bd/234.jpg\n",
            "/content/drive/My Drive/coffee_dataset/coffee_bd/235_1.jpg\n",
            "/content/drive/My Drive/coffee_dataset/coffee_bd/235_2.jpg\n",
            "/content/drive/My Drive/coffee_dataset/coffee_bd/235.jpg\n",
            "/content/drive/My Drive/coffee_dataset/coffee_bd/233_3.jpg\n",
            "/content/drive/My Drive/coffee_dataset/coffee_bd/235_4.jpg\n",
            "/content/drive/My Drive/coffee_dataset/coffee_bd/233_2.jpg\n",
            "/content/drive/My Drive/coffee_dataset/coffee_bd/233_1.jpg\n",
            "/content/drive/My Drive/coffee_dataset/coffee_bd/233_5.jpg\n",
            "/content/drive/My Drive/coffee_dataset/coffee_bd/235_3.jpg\n",
            "/content/drive/My Drive/coffee_dataset/coffee_bd/233_4.jpg\n",
            "/content/drive/My Drive/coffee_dataset/coffee_bd/233.jpg\n",
            "/content/drive/My Drive/coffee_dataset/coffee_bd/232_1.jpg\n",
            "/content/drive/My Drive/coffee_dataset/coffee_bd/232_2.jpg\n",
            "/content/drive/My Drive/coffee_dataset/coffee_bd/232.jpg\n",
            "/content/drive/My Drive/coffee_dataset/coffee_bd/231_3.jpg\n",
            "/content/drive/My Drive/coffee_dataset/coffee_bd/232_5.jpg\n",
            "/content/drive/My Drive/coffee_dataset/coffee_bd/232_3.jpg\n",
            "/content/drive/My Drive/coffee_dataset/coffee_bd/231_2.jpg\n",
            "/content/drive/My Drive/coffee_dataset/coffee_bd/231_1.jpg\n",
            "/content/drive/My Drive/coffee_dataset/coffee_bd/231_5.jpg\n",
            "/content/drive/My Drive/coffee_dataset/coffee_bd/232_4.jpg\n",
            "/content/drive/My Drive/coffee_dataset/coffee_bd/231_4.jpg\n",
            "/content/drive/My Drive/coffee_dataset/coffee_bd/231.jpg\n",
            "/content/drive/My Drive/coffee_dataset/coffee_bd/23.jpg\n",
            "/content/drive/My Drive/coffee_dataset/coffee_bd/230.jpg\n",
            "/content/drive/My Drive/coffee_dataset/coffee_bd/230_1.jpg\n",
            "/content/drive/My Drive/coffee_dataset/coffee_bd/230_3.jpg\n",
            "/content/drive/My Drive/coffee_dataset/coffee_bd/230_5.jpg\n",
            "/content/drive/My Drive/coffee_dataset/coffee_bd/230_2.jpg\n",
            "/content/drive/My Drive/coffee_dataset/coffee_bd/227_2.jpg\n",
            "/content/drive/My Drive/coffee_dataset/coffee_bd/227_3.jpg\n",
            "/content/drive/My Drive/coffee_dataset/coffee_bd/227_5.jpg\n",
            "/content/drive/My Drive/coffee_dataset/coffee_bd/230_4.jpg\n",
            "/content/drive/My Drive/coffee_dataset/coffee_bd/227_4.jpg\n",
            "/content/drive/My Drive/coffee_dataset/coffee_bd/227_1.jpg\n",
            "/content/drive/My Drive/coffee_dataset/coffee_bd/226_1.jpg\n",
            "/content/drive/My Drive/coffee_dataset/coffee_bd/226_2.jpg\n",
            "/content/drive/My Drive/coffee_dataset/coffee_bd/226.jpg\n",
            "/content/drive/My Drive/coffee_dataset/coffee_bd/225.jpg\n",
            "/content/drive/My Drive/coffee_dataset/coffee_bd/226_3.jpg\n",
            "/content/drive/My Drive/coffee_dataset/coffee_bd/227.jpg\n",
            "/content/drive/My Drive/coffee_dataset/coffee_bd/223_3.jpg\n",
            "/content/drive/My Drive/coffee_dataset/coffee_bd/226_4.jpg\n",
            "/content/drive/My Drive/coffee_dataset/coffee_bd/223_5.jpg\n",
            "/content/drive/My Drive/coffee_dataset/coffee_bd/226_5.jpg\n",
            "/content/drive/My Drive/coffee_dataset/coffee_bd/223_4.jpg\n",
            "/content/drive/My Drive/coffee_dataset/coffee_bd/223_2.jpg\n",
            "/content/drive/My Drive/coffee_dataset/coffee_bd/22.jpg\n",
            "/content/drive/My Drive/coffee_dataset/coffee_bd/220_3.jpg\n",
            "/content/drive/My Drive/coffee_dataset/coffee_bd/220_1.jpg\n",
            "/content/drive/My Drive/coffee_dataset/coffee_bd/223_1.jpg\n",
            "/content/drive/My Drive/coffee_dataset/coffee_bd/220_2.jpg\n",
            "/content/drive/My Drive/coffee_dataset/coffee_bd/220.jpg\n",
            "/content/drive/My Drive/coffee_dataset/coffee_bd/220_5.jpg\n",
            "/content/drive/My Drive/coffee_dataset/coffee_bd/220_4.jpg\n",
            "/content/drive/My Drive/coffee_dataset/coffee_bd/217_5.jpg\n",
            "/content/drive/My Drive/coffee_dataset/coffee_bd/223.jpg\n",
            "/content/drive/My Drive/coffee_dataset/coffee_bd/217_4.jpg\n",
            "/content/drive/My Drive/coffee_dataset/coffee_bd/217_3.jpg\n",
            "/content/drive/My Drive/coffee_dataset/coffee_bd/216.jpg\n",
            "/content/drive/My Drive/coffee_dataset/coffee_bd/217.jpg\n",
            "/content/drive/My Drive/coffee_dataset/coffee_bd/216_1.jpg\n",
            "/content/drive/My Drive/coffee_dataset/coffee_bd/216_2.jpg\n",
            "/content/drive/My Drive/coffee_dataset/coffee_bd/217_2.jpg\n",
            "/content/drive/My Drive/coffee_dataset/coffee_bd/215_3.jpg\n",
            "/content/drive/My Drive/coffee_dataset/coffee_bd/216_3.jpg\n",
            "/content/drive/My Drive/coffee_dataset/coffee_bd/216_5.jpg\n",
            "/content/drive/My Drive/coffee_dataset/coffee_bd/216_4.jpg\n",
            "/content/drive/My Drive/coffee_dataset/coffee_bd/217_1.jpg\n",
            "/content/drive/My Drive/coffee_dataset/coffee_bd/215_4.jpg\n",
            "/content/drive/My Drive/coffee_dataset/coffee_bd/29_4.jpg\n",
            "/content/drive/My Drive/coffee_dataset/coffee_bd/28_3.jpg\n",
            "/content/drive/My Drive/coffee_dataset/coffee_bd/29.jpg\n",
            "/content/drive/My Drive/coffee_dataset/coffee_bd/29_1.jpg\n",
            "/content/drive/My Drive/coffee_dataset/coffee_bd/28_2.jpg\n",
            "/content/drive/My Drive/coffee_dataset/coffee_bd/29_3.jpg\n",
            "/content/drive/My Drive/coffee_dataset/coffee_bd/28_1.jpg\n",
            "/content/drive/My Drive/coffee_dataset/coffee_bd/289.jpg\n",
            "/content/drive/My Drive/coffee_dataset/coffee_bd/28_5.jpg\n",
            "/content/drive/My Drive/coffee_dataset/coffee_bd/28_4.jpg\n",
            "/content/drive/My Drive/coffee_dataset/coffee_bd/29_2.jpg\n",
            "/content/drive/My Drive/coffee_dataset/coffee_bd/288_5.jpg\n",
            "/content/drive/My Drive/coffee_dataset/coffee_bd/288_4.jpg\n",
            "/content/drive/My Drive/coffee_dataset/coffee_bd/288_1.jpg\n",
            "/content/drive/My Drive/coffee_dataset/coffee_bd/283_3.jpg\n",
            "/content/drive/My Drive/coffee_dataset/coffee_bd/283_1.jpg\n",
            "/content/drive/My Drive/coffee_dataset/coffee_bd/283_2.jpg\n",
            "/content/drive/My Drive/coffee_dataset/coffee_bd/283.jpg\n",
            "/content/drive/My Drive/coffee_dataset/coffee_bd/288_3.jpg\n",
            "/content/drive/My Drive/coffee_dataset/coffee_bd/288.jpg\n",
            "/content/drive/My Drive/coffee_dataset/coffee_bd/283_5.jpg\n",
            "/content/drive/My Drive/coffee_dataset/coffee_bd/283_4.jpg\n",
            "/content/drive/My Drive/coffee_dataset/coffee_bd/288_2.jpg\n",
            "/content/drive/My Drive/coffee_dataset/coffee_bd/281_5.jpg\n",
            "/content/drive/My Drive/coffee_dataset/coffee_bd/281_4.jpg\n",
            "/content/drive/My Drive/coffee_dataset/coffee_bd/280_1.jpg\n",
            "/content/drive/My Drive/coffee_dataset/coffee_bd/280_5.jpg\n",
            "/content/drive/My Drive/coffee_dataset/coffee_bd/281_1.jpg\n",
            "/content/drive/My Drive/coffee_dataset/coffee_bd/280_3.jpg\n",
            "/content/drive/My Drive/coffee_dataset/coffee_bd/281.jpg\n",
            "/content/drive/My Drive/coffee_dataset/coffee_bd/281_3.jpg\n",
            "/content/drive/My Drive/coffee_dataset/coffee_bd/280_4.jpg\n",
            "/content/drive/My Drive/coffee_dataset/coffee_bd/280_2.jpg\n",
            "/content/drive/My Drive/coffee_dataset/coffee_bd/28.jpg\n",
            "/content/drive/My Drive/coffee_dataset/coffee_bd/281_2.jpg\n",
            "/content/drive/My Drive/coffee_dataset/coffee_bd/280.jpg\n",
            "/content/drive/My Drive/coffee_dataset/coffee_bd/279_5.jpg\n",
            "/content/drive/My Drive/coffee_dataset/coffee_bd/279_2.jpg\n",
            "/content/drive/My Drive/coffee_dataset/coffee_bd/279_1.jpg\n",
            "/content/drive/My Drive/coffee_dataset/coffee_bd/279.jpg\n",
            "/content/drive/My Drive/coffee_dataset/coffee_bd/277_3.jpg\n",
            "/content/drive/My Drive/coffee_dataset/coffee_bd/279_4.jpg\n",
            "/content/drive/My Drive/coffee_dataset/coffee_bd/277_1.jpg\n",
            "/content/drive/My Drive/coffee_dataset/coffee_bd/277_2.jpg\n",
            "/content/drive/My Drive/coffee_dataset/coffee_bd/277.jpg\n",
            "/content/drive/My Drive/coffee_dataset/coffee_bd/277_4.jpg\n",
            "/content/drive/My Drive/coffee_dataset/coffee_bd/279_3.jpg\n",
            "/content/drive/My Drive/coffee_dataset/coffee_bd/277_5.jpg\n",
            "/content/drive/My Drive/coffee_dataset/coffee_bd/276_5.jpg\n",
            "/content/drive/My Drive/coffee_dataset/coffee_bd/276_1.jpg\n",
            "/content/drive/My Drive/coffee_dataset/coffee_bd/276.jpg\n",
            "/content/drive/My Drive/coffee_dataset/coffee_bd/275_3.jpg\n",
            "/content/drive/My Drive/coffee_dataset/coffee_bd/276_2.jpg\n",
            "/content/drive/My Drive/coffee_dataset/coffee_bd/275_2.jpg\n",
            "/content/drive/My Drive/coffee_dataset/coffee_bd/276_4.jpg\n",
            "/content/drive/My Drive/coffee_dataset/coffee_bd/275_1.jpg\n",
            "/content/drive/My Drive/coffee_dataset/coffee_bd/275.jpg\n",
            "/content/drive/My Drive/coffee_dataset/coffee_bd/275_5.jpg\n",
            "/content/drive/My Drive/coffee_dataset/coffee_bd/276_3.jpg\n",
            "/content/drive/My Drive/coffee_dataset/coffee_bd/275_4.jpg\n",
            "/content/drive/My Drive/coffee_dataset/coffee_bd/274_5.jpg\n",
            "/content/drive/My Drive/coffee_dataset/coffee_bd/273_2.jpg\n",
            "/content/drive/My Drive/coffee_dataset/coffee_bd/273_3.jpg\n",
            "/content/drive/My Drive/coffee_dataset/coffee_bd/273.jpg\n",
            "/content/drive/My Drive/coffee_dataset/coffee_bd/274.jpg\n",
            "/content/drive/My Drive/coffee_dataset/coffee_bd/274_4.jpg\n",
            "/content/drive/My Drive/coffee_dataset/coffee_bd/274_2.jpg\n",
            "/content/drive/My Drive/coffee_dataset/coffee_bd/273_1.jpg\n",
            "/content/drive/My Drive/coffee_dataset/coffee_bd/274_1.jpg\n",
            "/content/drive/My Drive/coffee_dataset/coffee_bd/273_5.jpg\n",
            "/content/drive/My Drive/coffee_dataset/coffee_bd/274_3.jpg\n",
            "/content/drive/My Drive/coffee_dataset/coffee_bd/273_4.jpg\n",
            "/content/drive/My Drive/coffee_dataset/coffee_bd/272_5.jpg\n",
            "/content/drive/My Drive/coffee_dataset/coffee_bd/272.jpg\n",
            "/content/drive/My Drive/coffee_dataset/coffee_bd/272_2.jpg\n",
            "/content/drive/My Drive/coffee_dataset/coffee_bd/272_1.jpg\n",
            "/content/drive/My Drive/coffee_dataset/coffee_bd/26_3.jpg\n",
            "/content/drive/My Drive/coffee_dataset/coffee_bd/272_4.jpg\n",
            "/content/drive/My Drive/coffee_dataset/coffee_bd/26_2.jpg\n",
            "/content/drive/My Drive/coffee_dataset/coffee_bd/26_1.jpg\n",
            "/content/drive/My Drive/coffee_dataset/coffee_bd/26_5.jpg\n",
            "/content/drive/My Drive/coffee_dataset/coffee_bd/26_4.jpg\n",
            "/content/drive/My Drive/coffee_dataset/coffee_bd/272_3.jpg\n",
            "/content/drive/My Drive/coffee_dataset/coffee_bd/269_5.jpg\n",
            "/content/drive/My Drive/coffee_dataset/coffee_bd/269_4.jpg\n",
            "/content/drive/My Drive/coffee_dataset/coffee_bd/269_1.jpg\n",
            "/content/drive/My Drive/coffee_dataset/coffee_bd/269_2.jpg\n",
            "/content/drive/My Drive/coffee_dataset/coffee_bd/269.jpg\n",
            "/content/drive/My Drive/coffee_dataset/coffee_bd/266_2.jpg\n",
            "/content/drive/My Drive/coffee_dataset/coffee_bd/266_3.jpg\n",
            "/content/drive/My Drive/coffee_dataset/coffee_bd/308_5.jpg\n",
            "/content/drive/My Drive/coffee_dataset/coffee_bd/307_4.jpg\n",
            "/content/drive/My Drive/coffee_dataset/coffee_bd/307_1.jpg\n",
            "/content/drive/My Drive/coffee_dataset/coffee_bd/306_5.jpg\n",
            "/content/drive/My Drive/coffee_dataset/coffee_bd/306_4.jpg\n",
            "/content/drive/My Drive/coffee_dataset/coffee_bd/306_2.jpg\n",
            "/content/drive/My Drive/coffee_dataset/coffee_bd/306_3.jpg\n",
            "/content/drive/My Drive/coffee_dataset/coffee_bd/307.jpg\n",
            "/content/drive/My Drive/coffee_dataset/coffee_bd/306_1.jpg\n",
            "/content/drive/My Drive/coffee_dataset/coffee_bd/306.jpg\n",
            "/content/drive/My Drive/coffee_dataset/coffee_bd/305_5.jpg\n",
            "/content/drive/My Drive/coffee_dataset/coffee_bd/305_4.jpg\n",
            "/content/drive/My Drive/coffee_dataset/coffee_bd/305_3.jpg\n",
            "/content/drive/My Drive/coffee_dataset/coffee_bd/305_2.jpg\n",
            "/content/drive/My Drive/coffee_dataset/coffee_bd/303_2.jpg\n",
            "/content/drive/My Drive/coffee_dataset/coffee_bd/303.jpg\n",
            "/content/drive/My Drive/coffee_dataset/coffee_bd/303_1.jpg\n",
            "/content/drive/My Drive/coffee_dataset/coffee_bd/303_3.jpg\n",
            "/content/drive/My Drive/coffee_dataset/coffee_bd/305_1.jpg\n",
            "/content/drive/My Drive/coffee_dataset/coffee_bd/302_3.jpg\n",
            "/content/drive/My Drive/coffee_dataset/coffee_bd/303_5.jpg\n",
            "/content/drive/My Drive/coffee_dataset/coffee_bd/303_4.jpg\n",
            "/content/drive/My Drive/coffee_dataset/coffee_bd/302_5.jpg\n",
            "/content/drive/My Drive/coffee_dataset/coffee_bd/305.jpg\n",
            "/content/drive/My Drive/coffee_dataset/coffee_bd/302_4.jpg\n",
            "/content/drive/My Drive/coffee_dataset/coffee_bd/302_2.jpg\n",
            "/content/drive/My Drive/coffee_dataset/coffee_bd/30.jpg\n",
            "/content/drive/My Drive/coffee_dataset/coffee_bd/300_1.jpg\n",
            "/content/drive/My Drive/coffee_dataset/coffee_bd/300_2.jpg\n",
            "/content/drive/My Drive/coffee_dataset/coffee_bd/301.jpg\n",
            "/content/drive/My Drive/coffee_dataset/coffee_bd/302_1.jpg\n",
            "/content/drive/My Drive/coffee_dataset/coffee_bd/300_3.jpg\n",
            "/content/drive/My Drive/coffee_dataset/coffee_bd/300.jpg\n",
            "/content/drive/My Drive/coffee_dataset/coffee_bd/300_4.jpg\n",
            "/content/drive/My Drive/coffee_dataset/coffee_bd/300_5.jpg\n",
            "/content/drive/My Drive/coffee_dataset/coffee_bd/302.jpg\n",
            "/content/drive/My Drive/coffee_dataset/coffee_bd/29_5.jpg\n",
            "/content/drive/My Drive/coffee_dataset/coffee_bd/32_2.jpg\n",
            "/content/drive/My Drive/coffee_dataset/coffee_bd/32_1.jpg\n",
            "/content/drive/My Drive/coffee_dataset/coffee_bd/32.jpg\n",
            "/content/drive/My Drive/coffee_dataset/coffee_bd/32_3.jpg\n",
            "/content/drive/My Drive/coffee_dataset/coffee_bd/34_2.jpg\n",
            "/content/drive/My Drive/coffee_dataset/coffee_bd/34.jpg\n",
            "/content/drive/My Drive/coffee_dataset/coffee_bd/32_5.jpg\n",
            "/content/drive/My Drive/coffee_dataset/coffee_bd/32_4.jpg\n",
            "/content/drive/My Drive/coffee_dataset/coffee_bd/31_5.jpg\n",
            "/content/drive/My Drive/coffee_dataset/coffee_bd/34_1.jpg\n",
            "/content/drive/My Drive/coffee_dataset/coffee_bd/31_4.jpg\n",
            "/content/drive/My Drive/coffee_dataset/coffee_bd/31_3.jpg\n",
            "/content/drive/My Drive/coffee_dataset/coffee_bd/312.jpg\n",
            "/content/drive/My Drive/coffee_dataset/coffee_bd/312_1.jpg\n",
            "/content/drive/My Drive/coffee_dataset/coffee_bd/312_2.jpg\n",
            "/content/drive/My Drive/coffee_dataset/coffee_bd/312_3.jpg\n",
            "/content/drive/My Drive/coffee_dataset/coffee_bd/31_2.jpg\n",
            "/content/drive/My Drive/coffee_dataset/coffee_bd/310_3.jpg\n",
            "/content/drive/My Drive/coffee_dataset/coffee_bd/310_2.jpg\n",
            "/content/drive/My Drive/coffee_dataset/coffee_bd/311.jpg\n",
            "/content/drive/My Drive/coffee_dataset/coffee_bd/312_5.jpg\n",
            "/content/drive/My Drive/coffee_dataset/coffee_bd/31_1.jpg\n",
            "/content/drive/My Drive/coffee_dataset/coffee_bd/312_4.jpg\n",
            "/content/drive/My Drive/coffee_dataset/coffee_bd/310_1.jpg\n",
            "/content/drive/My Drive/coffee_dataset/coffee_bd/30_3.jpg\n",
            "/content/drive/My Drive/coffee_dataset/coffee_bd/30_1.jpg\n",
            "/content/drive/My Drive/coffee_dataset/coffee_bd/30_2.jpg\n",
            "/content/drive/My Drive/coffee_dataset/coffee_bd/309_2.jpg\n",
            "/content/drive/My Drive/coffee_dataset/coffee_bd/310.jpg\n",
            "/content/drive/My Drive/coffee_dataset/coffee_bd/309_3.jpg\n",
            "/content/drive/My Drive/coffee_dataset/coffee_bd/30_5.jpg\n",
            "/content/drive/My Drive/coffee_dataset/coffee_bd/30_4.jpg\n",
            "/content/drive/My Drive/coffee_dataset/coffee_bd/309_5.jpg\n",
            "/content/drive/My Drive/coffee_dataset/coffee_bd/31.jpg\n",
            "/content/drive/My Drive/coffee_dataset/coffee_bd/309_4.jpg\n",
            "/content/drive/My Drive/coffee_dataset/coffee_bd/309_1.jpg\n",
            "/content/drive/My Drive/coffee_dataset/coffee_bd/308_2.jpg\n",
            "/content/drive/My Drive/coffee_dataset/coffee_bd/308_3.jpg\n",
            "/content/drive/My Drive/coffee_dataset/coffee_bd/308_1.jpg\n",
            "/content/drive/My Drive/coffee_dataset/coffee_bd/308.jpg\n",
            "/content/drive/My Drive/coffee_dataset/coffee_bd/309.jpg\n",
            "/content/drive/My Drive/coffee_dataset/coffee_bd/307_3.jpg\n",
            "/content/drive/My Drive/coffee_dataset/coffee_bd/307_2.jpg\n",
            "/content/drive/My Drive/coffee_dataset/coffee_bd/308_4.jpg\n",
            "/content/drive/My Drive/coffee_dataset/coffee_bd/307_5.jpg\n",
            "/content/drive/My Drive/coffee_dataset/coffee_bd/43_2.jpg\n",
            "/content/drive/My Drive/coffee_dataset/coffee_bd/43.jpg\n",
            "/content/drive/My Drive/coffee_dataset/coffee_bd/41_5.jpg\n",
            "/content/drive/My Drive/coffee_dataset/coffee_bd/43_4.jpg\n",
            "/content/drive/My Drive/coffee_dataset/coffee_bd/43_5.jpg\n",
            "/content/drive/My Drive/coffee_dataset/coffee_bd/41_4.jpg\n",
            "/content/drive/My Drive/coffee_dataset/coffee_bd/41_1.jpg\n",
            "/content/drive/My Drive/coffee_dataset/coffee_bd/40_3.jpg\n",
            "/content/drive/My Drive/coffee_dataset/coffee_bd/40_2.jpg\n",
            "/content/drive/My Drive/coffee_dataset/coffee_bd/40_1.jpg\n",
            "/content/drive/My Drive/coffee_dataset/coffee_bd/40.jpg\n",
            "/content/drive/My Drive/coffee_dataset/coffee_bd/41.jpg\n",
            "/content/drive/My Drive/coffee_dataset/coffee_bd/4.jpg\n",
            "/content/drive/My Drive/coffee_dataset/coffee_bd/40_4.jpg\n",
            "/content/drive/My Drive/coffee_dataset/coffee_bd/40_5.jpg\n",
            "/content/drive/My Drive/coffee_dataset/coffee_bd/38_4.jpg\n",
            "/content/drive/My Drive/coffee_dataset/coffee_bd/38_5.jpg\n",
            "/content/drive/My Drive/coffee_dataset/coffee_bd/38_3.jpg\n",
            "/content/drive/My Drive/coffee_dataset/coffee_bd/38.jpg\n",
            "/content/drive/My Drive/coffee_dataset/coffee_bd/37_5.jpg\n",
            "/content/drive/My Drive/coffee_dataset/coffee_bd/37_2.jpg\n",
            "/content/drive/My Drive/coffee_dataset/coffee_bd/37_4.jpg\n",
            "/content/drive/My Drive/coffee_dataset/coffee_bd/37_1.jpg\n",
            "/content/drive/My Drive/coffee_dataset/coffee_bd/38_2.jpg\n",
            "/content/drive/My Drive/coffee_dataset/coffee_bd/37_3.jpg\n",
            "/content/drive/My Drive/coffee_dataset/coffee_bd/37.jpg\n",
            "/content/drive/My Drive/coffee_dataset/coffee_bd/36_5.jpg\n",
            "/content/drive/My Drive/coffee_dataset/coffee_bd/38_1.jpg\n"
          ]
        }
      ],
      "source": [
        "SIZE = 64\n",
        "data_image = []\n",
        "data_label = []\n",
        "for dir_path in glob.glob(\"/content/drive/My Drive/coffee_dataset/*\"):\n",
        "    label = dir_path.split(\"\\\\\")[-1]\n",
        "    print(label)\n",
        "    for img_path in glob.glob(os.path.join(dir_path,\"*.jpg\")):\n",
        "        print(img_path)\n",
        "        img = cv2.imread(img_path,cv2.IMREAD_COLOR)\n",
        "        img = cv2.resize(img,(SIZE,SIZE))\n",
        "        img = cv2.cvtColor(img,cv2.COLOR_RGB2BGR)\n",
        "        \n",
        "        img = cv2.GaussianBlur(img,(5,5),0)\n",
        "  \n",
        "        #img = otsu_segmentation(img)]\n",
        "\n",
        "        data_image.append(img)\n",
        "        data_label.append(label)\n",
        "data_image = np.array(data_image)\n",
        "data_label = np.array(data_label)"
      ]
    },
    {
      "cell_type": "code",
      "execution_count": null,
      "metadata": {
        "id": "MebiACAz2Yoz"
      },
      "outputs": [],
      "source": [
        "le = preprocessing.LabelEncoder()\n",
        "le.fit(data_label)\n",
        "train_labe_encoded = le.transform(data_label)"
      ]
    },
    {
      "cell_type": "code",
      "execution_count": null,
      "metadata": {
        "id": "5qwzDbRX2Yrn"
      },
      "outputs": [],
      "source": [
        "x_train,y_train = data_image,train_labe_encoded\n",
        "x_train = x_train/255.0"
      ]
    },
    {
      "cell_type": "code",
      "execution_count": null,
      "metadata": {
        "id": "FxDMzveZ2Yua"
      },
      "outputs": [],
      "source": [
        "from keras.utils.all_utils import to_categorical\n",
        "y_train_one_hot = to_categorical(y_train)"
      ]
    },
    {
      "cell_type": "markdown",
      "source": [
        "### train test validate splite"
      ],
      "metadata": {
        "id": "rWsd6G1Uhy3i"
      }
    },
    {
      "cell_type": "code",
      "source": [
        "from sklearn.model_selection import train_test_split"
      ],
      "metadata": {
        "id": "enyR95VpiGgg"
      },
      "execution_count": null,
      "outputs": []
    },
    {
      "cell_type": "code",
      "source": [
        "x_tr,x_te,y_tr,y_te = train_test_split(x_train,y_train_one_hot,test_size=0.30,shuffle=True,random_state=42,stratify=y_train_one_hot)"
      ],
      "metadata": {
        "id": "DXLWbt1Eh3bY"
      },
      "execution_count": null,
      "outputs": []
    },
    {
      "cell_type": "code",
      "source": [
        "\n",
        "print(x_tr.shape,'----',y_tr.shape)\n",
        "print(x_te.shape,'----',y_te.shape)"
      ],
      "metadata": {
        "id": "RJbMmd-Pjcf0"
      },
      "execution_count": null,
      "outputs": []
    },
    {
      "cell_type": "code",
      "source": [
        "x_v,x_tes,y_v,y_tes = train_test_split(x_te,y_te,test_size=0.5,shuffle=True,random_state=42,stratify=y_te)"
      ],
      "metadata": {
        "id": "k-KDCttgiuqm"
      },
      "execution_count": null,
      "outputs": []
    },
    {
      "cell_type": "markdown",
      "source": [
        "### GoogleNet"
      ],
      "metadata": {
        "id": "3ucVuXZDoV8r"
      }
    },
    {
      "cell_type": "code",
      "source": [
        "def inception_module(x,filters_1x1,filters_3x3_reduce,filters_3x3,filters_5x5_reduce,filters_5x5,filters_pool_proj,name=None):\n",
        "    \n",
        "    conv_1x1 = Conv2D(filters_1x1, (1, 1), padding='same', activation='relu', kernel_initializer=kernel_init, bias_initializer=bias_init)(x)\n",
        "    \n",
        "    conv_3x3 = Conv2D(filters_3x3_reduce, (1, 1), padding='same', activation='relu', kernel_initializer=kernel_init, bias_initializer=bias_init)(x)\n",
        "    conv_3x3 = Conv2D(filters_3x3, (3, 3), padding='same', activation='relu', kernel_initializer=kernel_init, bias_initializer=bias_init)(conv_3x3)\n",
        "\n",
        "    conv_5x5 = Conv2D(filters_5x5_reduce, (1, 1), padding='same', activation='relu', kernel_initializer=kernel_init, bias_initializer=bias_init)(x)\n",
        "    conv_5x5 = Conv2D(filters_5x5, (3, 3), padding='same', activation='relu', kernel_initializer=kernel_init, bias_initializer=bias_init)(conv_5x5)\n",
        "\n",
        "    pool_proj = MaxPool2D((3, 3), strides=(1, 1), padding='same')(x)\n",
        "    pool_proj = Conv2D(filters_pool_proj, (1, 1), padding='same', activation='relu', kernel_initializer=kernel_init, bias_initializer=bias_init)(pool_proj)\n",
        "\n",
        "    output = concatenate([conv_1x1, conv_3x3, conv_5x5, pool_proj], axis=3, name=name)\n",
        "    \n",
        "    return output"
      ],
      "metadata": {
        "id": "ugkfa6XYodEy"
      },
      "execution_count": null,
      "outputs": []
    },
    {
      "cell_type": "code",
      "source": [
        "kernel_init = keras.initializers.he_uniform()\n",
        "bias_init = keras.initializers.Constant(value=0.2)"
      ],
      "metadata": {
        "id": "cOEzr6E_oiDF"
      },
      "execution_count": null,
      "outputs": []
    },
    {
      "cell_type": "code",
      "source": [
        "input_layer = Input(shape=(64, 64, 3))\n",
        "\n",
        "x = Conv2D(64, (3, 3), padding='same', strides=(1, 1), activation='relu', name='conv_1_7x7/2', kernel_initializer=kernel_init, bias_initializer=bias_init)(input_layer)\n",
        "x = MaxPool2D((2, 2), padding='same', strides=(1, 1), name='max_pool_1_3x3/2')(x)\n",
        "x = Conv2D(64, (1, 1), padding='same', strides=(2, 2), activation='relu', name='conv_2a_3x3/1')(x)\n",
        "x = Conv2D(128, (3, 3), padding='same', strides=(1, 1), activation='relu', name='conv_2b_3x3/1')(x)\n",
        "x = MaxPool2D((2, 2), padding='same', strides=(2, 2), name='max_pool_2_3x3/2')(x)\n",
        "\n",
        "x = inception_module(x,\n",
        "                     filters_1x1=32,\n",
        "                     filters_3x3_reduce=96,\n",
        "                     filters_3x3=128,\n",
        "                     filters_5x5_reduce=16,\n",
        "                     filters_5x5=32,\n",
        "                     filters_pool_proj=32,\n",
        "                     name='inception_3a')\n",
        "\n",
        "x = inception_module(x,\n",
        "                     filters_1x1=64,\n",
        "                     filters_3x3_reduce=128,\n",
        "                     filters_3x3=192,\n",
        "                     filters_5x5_reduce=32,\n",
        "                     filters_5x5=96,\n",
        "                     filters_pool_proj=64,\n",
        "                     name='inception_3b')\n",
        "\n",
        "x = MaxPool2D((3, 3), padding='same', strides=(2, 2), name='max_pool_3_3x3/2')(x)\n",
        "\n",
        "x = inception_module(x,\n",
        "                     filters_1x1=128,\n",
        "                     filters_3x3_reduce=96,\n",
        "                     filters_3x3=208,\n",
        "                     filters_5x5_reduce=16,\n",
        "                     filters_5x5=48,\n",
        "                     filters_pool_proj=64,\n",
        "                     name='inception_4a')\n",
        "\n",
        "x = inception_module(x,\n",
        "                     filters_1x1=256,\n",
        "                     filters_3x3_reduce=112,\n",
        "                     filters_3x3=224,\n",
        "                     filters_5x5_reduce=24,\n",
        "                     filters_5x5=64,\n",
        "                     filters_pool_proj=64,\n",
        "                     name='inception_4b')\n",
        "\n",
        "x = GlobalAveragePooling2D(name='avg_pool_5_3x3/1')(x)\n",
        "\n",
        "x = Dropout(0.4)(x)\n",
        "\n",
        "x = Dense(6, activation='softmax', name='output')(x)\n",
        "google_net = Model(input_layer,x, name='inception_v1')"
      ],
      "metadata": {
        "id": "AdMCaDMsouXo"
      },
      "execution_count": null,
      "outputs": []
    },
    {
      "cell_type": "markdown",
      "metadata": {
        "id": "h0DHs81f2Y2o"
      },
      "source": [
        "### ResNet"
      ]
    },
    {
      "cell_type": "code",
      "execution_count": null,
      "metadata": {
        "id": "MObwlEa62Y6C"
      },
      "outputs": [],
      "source": [
        "from keras.layers import add\n",
        "stride = 1\n",
        "CHANNEL_AXIS = 3\n",
        "\n",
        "def res_layer(x ,filters,pooling = False,dropout = 0.0):\n",
        "    temp = x\n",
        "    temp = Conv2D(filters,(3,3),strides = stride,padding = \"same\",kernel_initializer='he_uniform')(temp)\n",
        "    temp = BatchNormalization(axis = CHANNEL_AXIS)(temp)\n",
        "    temp = Activation(\"relu\")(temp)\n",
        "    temp = Conv2D(filters,(3,3),strides = stride,padding = \"same\",kernel_initializer='he_uniform')(temp)\n",
        "\n",
        "    x = add([temp,Conv2D(filters,(3,3),strides = stride,padding = \"same\",kernel_initializer='he_uniform')(x)])\n",
        "    if pooling:\n",
        "        x = MaxPooling2D((2,2))(x)\n",
        "    if dropout != 0.0:\n",
        "        x = Dropout(dropout)(x)\n",
        "    x = BatchNormalization(axis = CHANNEL_AXIS)(x)\n",
        "    x = Activation(\"relu\")(x)\n",
        "    return x"
      ]
    },
    {
      "cell_type": "code",
      "execution_count": null,
      "metadata": {
        "id": "dLaSJfo-3HjY"
      },
      "outputs": [],
      "source": [
        "inp = Input(shape = (64,64,3))\n",
        "x = inp\n",
        "x = Conv2D(16,(3,3),strides = stride,padding = \"same\")(x)\n",
        "x = BatchNormalization(axis = CHANNEL_AXIS)(x)\n",
        "x = Activation(\"relu\")(x)\n",
        "x = res_layer(x,32,dropout = 0.2)\n",
        "#x = res_layer(x,32,dropout = 0.3)\n",
        "x = res_layer(x,32,dropout = 0.4,pooling = True)\n",
        "x = res_layer(x,64,dropout = 0.2)\n",
        "x = res_layer(x,64,dropout = 0.2,pooling = True)\n",
        "x = res_layer(x,256,dropout = 0.4)\n",
        "x = GlobalAveragePooling2D()(x)\n",
        "x = Dropout(0.4)(x)\n",
        "x = Dense(4096,activation = \"relu\")(x)\n",
        "x = Dropout(0.23)(x)\n",
        "x = Dense(6,activation = \"softmax\")(x)\n",
        "\n",
        "resnet_model = Model(inp,x,name = \"Resnet\")"
      ]
    },
    {
      "cell_type": "markdown",
      "metadata": {
        "id": "5mbcnu-U3Mye"
      },
      "source": [
        "### proposed model"
      ]
    },
    {
      "cell_type": "code",
      "execution_count": null,
      "metadata": {
        "id": "mMBluiin3ITw"
      },
      "outputs": [],
      "source": [
        "out1 = google_net.get_layer(index = -3).output\n",
        "out2 = resnet_model.get_layer(index= -5).output\n",
        "out = concatenate([out1,out2])\n",
        "\n",
        "out = Dense(64,activation='relu')(out)\n",
        "out = Dropout(0.35)(out)\n",
        "out = Dense(128,activation='relu')(out)\n",
        "out = Dropout(0.40)(out)\n",
        "#out = Dense(256,activation='relu')(out)\n",
        "#out = Dropout(0.50)(out)\n",
        "\n",
        "\n",
        "output = Dense(7,activation='softmax')(out)"
      ]
    },
    {
      "cell_type": "code",
      "execution_count": null,
      "metadata": {
        "id": "Ujn5pPKO3IXS"
      },
      "outputs": [],
      "source": [
        "e_model = Model(inputs = [google_net.input,resnet_model.input],outputs = output)"
      ]
    },
    {
      "cell_type": "code",
      "execution_count": null,
      "metadata": {
        "id": "gZCyNqIg3IpO"
      },
      "outputs": [],
      "source": [
        "e_model.compile(loss='categorical_crossentropy', optimizer='adam', metrics=['accuracy'])\n",
        "history = e_model.fit([x_tr,x_tr],y_tr,epochs=120,validation_data=([x_v,x_v],y_v))"
      ]
    },
    {
      "cell_type": "markdown",
      "metadata": {
        "id": "xSbEKBKM3Iv0"
      },
      "source": [
        "### plot the result"
      ]
    },
    {
      "cell_type": "code",
      "execution_count": null,
      "metadata": {
        "id": "JYJZna9T3a9r"
      },
      "outputs": [],
      "source": [
        "  acc = history.history['accuracy']\n",
        "  val_acc = history.history['val_accuracy']\n",
        "  loss = history.history['loss']\n",
        "  val_loss = history.history['val_loss']\n",
        "  plt.figure(figsize=(20,15))\n",
        "  epochs = range(len(acc))\n",
        "  plt.subplot(321)\n",
        "  plt.plot(epochs, acc, 'r', label = 'Training Accuracy')\n",
        "  plt.plot(epochs, val_acc, 'b', label= 'Validation Accuracy')\n",
        "  #plt.title(f'Training and Validation accuray {i}')\n",
        "  plt.legend(loc=0)\n",
        "  #plt.figure(figsize=(10,10))\n",
        "  plt.subplots_adjust(wspace=0.2,bottom=0.1)\n",
        "\n",
        "  plt.subplot(322)\n",
        "  plt.plot(epochs, loss,'', label = 'loss')\n",
        "  plt.plot(epochs, val_loss,'', label = 'Validation loss')\n",
        "  #plt.title(f'Training and Validation loss {i}')\n",
        "  plt.legend(loc=0)\n",
        "  #plt.figure(figsize=(10,10))\n",
        "  plt.subplots_adjust(wspace=0.2)\n",
        "  #show the graph\n",
        "  plt.show()"
      ]
    },
    {
      "cell_type": "markdown",
      "metadata": {
        "id": "eKi07EwU3fFp"
      },
      "source": [
        "### make prdiction and do confusion matrix"
      ]
    },
    {
      "cell_type": "code",
      "source": [
        "labeles = ['cbd','cbd_healthy','healthy','miner','mold','phoma','rust']"
      ],
      "metadata": {
        "id": "q4xcU4YlEeSp"
      },
      "execution_count": 32,
      "outputs": []
    },
    {
      "cell_type": "markdown",
      "source": [
        "### confusion matrix Training"
      ],
      "metadata": {
        "id": "sXjT9pTW3cYh"
      }
    },
    {
      "cell_type": "code",
      "execution_count": 30,
      "metadata": {
        "id": "iBBXBICQ3luq"
      },
      "outputs": [],
      "source": [
        "pred_tr = e_model.predict([x_tr,x_tr])\n",
        "round_pred_tr = np.argmax(pred_tr,axis=-1)\n",
        "y_tr_r = np.argmax(y_tr,axis=-1)\n",
        "#print(\"Acuracy of the Testing is : \" ,pred)"
      ]
    },
    {
      "cell_type": "code",
      "execution_count": 33,
      "metadata": {
        "id": "YO3WObkp3o-r",
        "colab": {
          "base_uri": "https://localhost:8080/",
          "height": 280
        },
        "outputId": "69d46ef5-4e90-4aad-b788-7132f83d64d7"
      },
      "outputs": [
        {
          "output_type": "display_data",
          "data": {
            "text/plain": [
              "<Figure size 432x288 with 2 Axes>"
            ],
            "image/png": "[encoded data removed]"
          },
          "metadata": {
            "needs_background": "light"
          }
        }
      ],
      "source": [
        "cm = confusion_matrix(y_tr_r, round_pred_tr)\n",
        "disp = ConfusionMatrixDisplay(confusion_matrix=cm,display_labels=labeles)\n",
        "disp.plot(cmap='BuGn')#BuGn,GnBu,Greens,YlOrBr\n",
        "plt.show()"
      ]
    },
    {
      "cell_type": "markdown",
      "source": [
        "### validation confusion matrix"
      ],
      "metadata": {
        "id": "J8xX6nwM2iTu"
      }
    },
    {
      "cell_type": "code",
      "source": [
        "pred_v = e_model.predict([x_v,x_v])\n",
        "round_pred_v = np.argmax(pred_v,axis=-1)\n",
        "y_v_r = np.argmax(y_v,axis=-1)"
      ],
      "metadata": {
        "id": "AxYuG3FM2nyw"
      },
      "execution_count": 25,
      "outputs": []
    },
    {
      "cell_type": "code",
      "source": [
        "\n",
        "cm = confusion_matrix(y_v_r, round_pred_v)\n",
        "disp = ConfusionMatrixDisplay(confusion_matrix=cm,display_labels=labeles)\n",
        "disp.plot(cmap='BuGn')#BuGn,GnBu,Greens,YlOrBr\n",
        "plt.show()\n",
        "print(classification_report(y_v_r,round_pred_v))"
      ],
      "metadata": {
        "colab": {
          "base_uri": "https://localhost:8080/",
          "height": 533
        },
        "id": "7xAO5I332bfm",
        "outputId": "f187cf51-8ddc-44d8-bc6a-63ce89bbc468"
      },
      "execution_count": 34,
      "outputs": [
        {
          "output_type": "display_data",
          "data": {
            "text/plain": [
              "<Figure size 432x288 with 2 Axes>"
            ],
            "image/png": "[encoded data removed]"
          },
          "metadata": {
            "needs_background": "light"
          }
        },
        {
          "output_type": "stream",
          "name": "stdout",
          "text": [
            "              precision    recall  f1-score   support\n",
            "\n",
            "           0       0.98      0.99      0.99       146\n",
            "           1       0.98      0.97      0.98       115\n",
            "           2       0.99      1.00      0.99       149\n",
            "           3       0.99      0.95      0.97       111\n",
            "           4       0.94      1.00      0.97       123\n",
            "           5       1.00      0.98      0.99       121\n",
            "           6       1.00      0.96      0.98       130\n",
            "\n",
            "    accuracy                           0.98       895\n",
            "   macro avg       0.98      0.98      0.98       895\n",
            "weighted avg       0.98      0.98      0.98       895\n",
            "\n"
          ]
        }
      ]
    },
    {
      "cell_type": "markdown",
      "source": [
        "### confusion matrix Testing"
      ],
      "metadata": {
        "id": "HykJIMOj3Wt6"
      }
    },
    {
      "cell_type": "code",
      "source": [
        "pred_t = e_model.predict([x_tes,x_tes])\n",
        "round_pred_t = np.argmax(pred_t,axis=-1)\n",
        "y_tes_r = np.argmax(y_tes,axis=-1)"
      ],
      "metadata": {
        "id": "2q-3FQC831cq"
      },
      "execution_count": 27,
      "outputs": []
    },
    {
      "cell_type": "code",
      "execution_count": 28,
      "metadata": {
        "id": "LVNxWSSy3pKY",
        "colab": {
          "base_uri": "https://localhost:8080/",
          "height": 532
        },
        "outputId": "cec2a2a3-0d1a-4145-c50a-59cf922e4c55"
      },
      "outputs": [
        {
          "output_type": "display_data",
          "data": {
            "text/plain": [
              "<Figure size 432x288 with 2 Axes>"
            ],
            "image/png": "[encoded data removed]"
          },
          "metadata": {
            "needs_background": "light"
          }
        },
        {
          "output_type": "stream",
          "name": "stdout",
          "text": [
            "              precision    recall  f1-score   support\n",
            "\n",
            "           0       0.99      0.98      0.98       146\n",
            "           1       0.97      0.99      0.98       114\n",
            "           2       0.96      1.00      0.98       149\n",
            "           3       0.97      0.97      0.97       112\n",
            "           4       0.92      1.00      0.96       122\n",
            "           5       1.00      0.95      0.97       122\n",
            "           6       1.00      0.91      0.95       130\n",
            "\n",
            "    accuracy                           0.97       895\n",
            "   macro avg       0.97      0.97      0.97       895\n",
            "weighted avg       0.97      0.97      0.97       895\n",
            "\n"
          ]
        }
      ],
      "source": [
        "cm = confusion_matrix(y_tes_r, round_pred_t)\n",
        "disp = ConfusionMatrixDisplay(confusion_matrix=cm,display_labels=labeles)\n",
        "disp.plot(cmap='BuGn')#BuGn,GnBu,Greens,YlOrBr\n",
        "plt.show()\n",
        "print(classification_report(y_tes_r,round_pred_t))"
      ]
    },
    {
      "cell_type": "code",
      "source": [
        ""
      ],
      "metadata": {
        "id": "ZpEYDpw12BCl"
      },
      "execution_count": 28,
      "outputs": []
    }
  ],
  "metadata": {
    "accelerator": "GPU",
    "colab": {
      "name": "xception_resnet.ipynb",
      "provenance": [],
      "include_colab_link": true
    },
    "gpuClass": "standard",
    "kernelspec": {
      "display_name": "Python 3",
      "name": "python3"
    },
    "language_info": {
      "name": "python"
    }
  },
  "nbformat": 4,
  "nbformat_minor": 0
}