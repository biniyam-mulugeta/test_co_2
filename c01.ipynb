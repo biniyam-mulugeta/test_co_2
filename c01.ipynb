{
  "cells": [
    {
      "cell_type": "markdown",
      "metadata": {
        "id": "view-in-github",
        "colab_type": "text"
      },
      "source": [
        "<a href=\"https://colab.research.google.com/github/biniyam-mulugeta/test_co_2/blob/main/c01.ipynb\" target=\"_parent\"><img src=\"https://colab.research.google.com/assets/colab-badge.svg\" alt=\"Open In Colab\"/></a>"
      ]
    },
    {
      "cell_type": "code",
      "execution_count": null,
      "metadata": {
        "id": "PNsyKfNmGwpm"
      },
      "outputs": [],
      "source": [
        "from google.colab import drive\n",
        "drive.mount('/content/drive')"
      ]
    },
    {
      "cell_type": "code",
      "execution_count": null,
      "metadata": {
        "id": "5rYrkqOhNAd_"
      },
      "outputs": [],
      "source": [
        "import tensorflow as tf\n",
        "import numpy as np \n",
        "#from keras.models import Sequential\n",
        "#from keras.layers import Dense,Dropout,Flatten,Conv2D,MaxPooling2D\n",
        "from keras_preprocessing import image\n",
        "from keras_preprocessing.image import ImageDataGenerator\n",
        "from keras.utils.all_utils import to_categorical\n",
        "from keras.layers.merge import concatenate\n",
        "from keras.applications import mobilenet_v2,densenet\n",
        "from keras.models import Model\n",
        "from sklearn import preprocessing\n",
        "import cv2\n",
        "from pathlib import Path\n",
        "import os\n",
        "import glob\n",
        "import matplotlib.pyplot as plt\n",
        "#import seaborn as sns\n",
        "#import zipfile\n",
        "%matplotlib inline"
      ]
    },
    {
      "cell_type": "code",
      "execution_count": null,
      "metadata": {
        "id": "dOrluX7Spa-e"
      },
      "outputs": [],
      "source": [
        "from sklearn.decomposition import PCA\n",
        "#from sklearn.ensemble import RandomForestClassifier\n",
        "from sklearn.svm import SVC\n",
        "from sklearn.metrics import accuracy_score"
      ]
    },
    {
      "cell_type": "code",
      "source": [
        "from keras.layers import Flatten"
      ],
      "metadata": {
        "id": "V3N1B6vgHWna"
      },
      "execution_count": null,
      "outputs": []
    },
    {
      "cell_type": "code",
      "execution_count": null,
      "metadata": {
        "id": "yhEJneZaebpz"
      },
      "outputs": [],
      "source": [
        "def k_means_segmentation(img):\n",
        "  twoDimage = img.reshape((-1,3))\n",
        "  twoDimage = np.float32(twoDimage)\n",
        "  criteria = (cv2.TERM_CRITERIA_EPS + cv2.TERM_CRITERIA_MAX_ITER, 10, 1.0)\n",
        "  K = 2\n",
        "  attempts=1\n",
        "  ret,label,center=cv2.kmeans(twoDimage,K,None,criteria,attempts,cv2.KMEANS_PP_CENTERS)\n",
        "  center = np.uint8(center)\n",
        "  res = center[label.flatten()]\n",
        "  result_image = res.reshape((img.shape))\n",
        "  return result_image"
      ]
    },
    {
      "cell_type": "code",
      "execution_count": null,
      "metadata": {
        "colab": {
          "background_save": true
        },
        "id": "RSEeBjESoyOV"
      },
      "outputs": [],
      "source": [
        "def color_mask_segmentation(img):\n",
        "  hsv_img = cv2.cvtColor(img, cv2.COLOR_RGB2HSV)\n",
        "  light_blue = (90, 70, 50)\n",
        "  #dark_blue = (128, 255, 255)\n",
        "  # You can use the following values for green\n",
        "  light_green = (40, 40, 40)\n",
        "  # dark_greek = (70, 255, 255)\n",
        "  mask = cv2.inRange(hsv_img, light_blue, dark_blue)\n",
        "  result = cv2.bitwise_and(img, img, mask=mask)\n",
        "  return result"
      ]
    },
    {
      "cell_type": "code",
      "execution_count": null,
      "metadata": {
        "id": "w4yuo-JsQcBW"
      },
      "outputs": [],
      "source": [
        "SIZE = 224\n",
        "train_image = []\n",
        "train_label = []\n",
        "for dir_path in glob.glob(\"/content/drive/My Drive/train_cro/*\"):\n",
        "    label = dir_path.split(\"\\\\\")[-1]\n",
        "    print(label)\n",
        "    for img_path in glob.glob(os.path.join(dir_path,\"*.jpg\")):\n",
        "        print(img_path)\n",
        "        img = cv2.imread(img_path,cv2.IMREAD_COLOR)\n",
        "        img = cv2.resize(img,(SIZE,SIZE))\n",
        "        img = cv2.cvtColor(img,cv2.COLOR_RGB2BGR)\n",
        "        #img = color_mask_segmentation(img)\n",
        "        train_image.append(img)\n",
        "        train_label.append(label)\n",
        "train_image = np.array(train_image)\n",
        "train_label = np.array(train_label)\n",
        "\n",
        "val_image = []\n",
        "val_label = []\n",
        "for dir_path_v in glob.glob(\"/content/drive/My Drive/validation_cro/*\"):\n",
        "    label_v = dir_path_v.split(\"\\\\\")[-1]\n",
        "    #print(label_v)\n",
        "    for img_path_v in glob.glob(os.path.join(dir_path_v,\"*.jpg\")):\n",
        "        #print(img_path_v)\n",
        "        img = cv2.imread(img_path_v,cv2.IMREAD_COLOR)\n",
        "        img = cv2.resize(img,(SIZE,SIZE))\n",
        "        img = cv2.cvtColor(img,cv2.COLOR_RGB2BGR)\n",
        "        #img = color_mask_segmentation(img)\n",
        "        val_image.append(img)\n",
        "        val_label.append(label_v)\n",
        "val_image = np.array(val_image)\n",
        "val_label = np.array(val_label)"
      ]
    },
    {
      "cell_type": "code",
      "execution_count": null,
      "metadata": {
        "id": "fxv0wHSMj7oD"
      },
      "outputs": [],
      "source": [
        "from skimage import io\n",
        "img = train_image[1]\n",
        "print(img.shape)\n",
        "#img = cv2.imread(val_image[0])\n",
        "io.imshow(img)\n",
        "plt.show()"
      ]
    },
    {
      "cell_type": "code",
      "execution_count": null,
      "metadata": {
        "id": "DNFUq1yqmwT9"
      },
      "outputs": [],
      "source": [
        "le = preprocessing.LabelEncoder()\n",
        "le.fit(train_label)\n",
        "train_labe_encoded = le.transform(train_label)\n",
        "le.fit(val_label)\n",
        "val_label_encoded = le.transform(val_label)"
      ]
    },
    {
      "cell_type": "code",
      "execution_count": null,
      "metadata": {
        "id": "uHb3jNAem3W0"
      },
      "outputs": [],
      "source": [
        "x_train,y_train,x_test,y_test = train_image,train_labe_encoded,val_image,val_label_encoded"
      ]
    },
    {
      "cell_type": "code",
      "execution_count": null,
      "metadata": {
        "id": "1Aq2AdDfm8iF"
      },
      "outputs": [],
      "source": [
        "x_train,x_test = x_train/255.0,x_test/255.0"
      ]
    },
    {
      "cell_type": "code",
      "execution_count": null,
      "metadata": {
        "id": "sX5q4nmKi5j-"
      },
      "outputs": [],
      "source": [
        "x_train.shape"
      ]
    },
    {
      "cell_type": "code",
      "execution_count": null,
      "metadata": {
        "id": "JHo4Y30pnBY9"
      },
      "outputs": [],
      "source": [
        "y_train_one_hot = to_categorical(y_train)\n",
        "y_test_one_hot = to_categorical(y_test)"
      ]
    },
    {
      "cell_type": "code",
      "execution_count": null,
      "metadata": {
        "id": "NSHzJVWlJIuZ"
      },
      "outputs": [],
      "source": [
        "model_1 = mobilenet_v2.MobileNetV2(include_top=False,weights=None,input_shape=(224,224,3))"
      ]
    },
    {
      "cell_type": "code",
      "source": [
        "#model_1.summary()"
      ],
      "metadata": {
        "id": "cwpvjstPrepD"
      },
      "execution_count": null,
      "outputs": []
    },
    {
      "cell_type": "code",
      "execution_count": null,
      "metadata": {
        "id": "MlZy3XP0ohI_"
      },
      "outputs": [],
      "source": [
        "model_2 = densenet.DenseNet121(include_top=False,weights=None,input_shape=(224,224,3))"
      ]
    },
    {
      "cell_type": "code",
      "execution_count": null,
      "metadata": {
        "id": "QNHxAGJEqKtp"
      },
      "outputs": [],
      "source": [
        "#model = vgg16.VGG16(weights='imagenet',include_top=False,input_shape=(224,224,3))"
      ]
    },
    {
      "cell_type": "code",
      "execution_count": null,
      "metadata": {
        "id": "59R1QfovgEBP"
      },
      "outputs": [],
      "source": [
        "#for layer in model.layers:\n",
        "#  layer.trainable = False"
      ]
    },
    {
      "cell_type": "code",
      "execution_count": null,
      "metadata": {
        "id": "Q7CGCTYTghVG"
      },
      "outputs": [],
      "source": [
        "#out = model.get_layer(index = -1).output\n",
        "#out = Dropout(0.5)(out)\n",
        "#out = Flatten()(out)\n",
        "#out = Dense(3,activation='softmax')(out)"
      ]
    },
    {
      "cell_type": "code",
      "execution_count": null,
      "metadata": {
        "id": "v71yV9dogtxu"
      },
      "outputs": [],
      "source": [
        "#vgg = Model(inputs = model.input,outputs = out)"
      ]
    },
    {
      "cell_type": "code",
      "execution_count": null,
      "metadata": {
        "id": "S64ejQhMg4vA"
      },
      "outputs": [],
      "source": [
        "#vgg.summary()"
      ]
    },
    {
      "cell_type": "code",
      "execution_count": null,
      "metadata": {
        "id": "4lU_6Ltwe3ss"
      },
      "outputs": [],
      "source": [
        "#vgg.compile(loss='categorical_crossentropy',optimizer='adam',metrics=['accuracy'])\n",
        "#history= vgg.fit(x_train,y_train_one_hot,epochs=50,validation_data=(x_test,y_test_one_hot))"
      ]
    },
    {
      "cell_type": "code",
      "source": [
        "x1 = model_1.get_layer(index = -1).output\n",
        "x2 = model_2.get_layer(index = -1).output\n",
        "x1 = Flatten()(x1)\n",
        "x2 = Flatten()(x2)\n",
        "out = concatenate([x1,x2])"
      ],
      "metadata": {
        "id": "aDGJ1RBosam6"
      },
      "execution_count": null,
      "outputs": []
    },
    {
      "cell_type": "code",
      "source": [
        "model = Model(inputs = ([model_1.input,model_2.input]),outputs = out)\n",
        "#model.summary()"
      ],
      "metadata": {
        "id": "Y-eArNCes34R"
      },
      "execution_count": null,
      "outputs": []
    },
    {
      "cell_type": "code",
      "source": [
        "import tensorflow as tf\n",
        "tf.keras.utils.plot_model(\n",
        "    model,\n",
        "    to_file=\"model.png\",\n",
        "    show_shapes=False,\n",
        "    show_dtype=False,\n",
        "    show_layer_names=True,\n",
        "    rankdir=\"TB\",\n",
        "    expand_nested=False,\n",
        "    dpi=96,\n",
        "    layer_range=None,\n",
        "    show_layer_activations=False,\n",
        ")"
      ],
      "metadata": {
        "id": "4piTUDslxNnP"
      },
      "execution_count": null,
      "outputs": []
    },
    {
      "cell_type": "code",
      "source": [
        "print(\"Feature extraction ...\")\n",
        "prediction = np.array(model.predict([x_train,x_train]))\n",
        "#Xtrain = np.reshape(prediction, (prediction.shape[0], prediction.shape[1]))"
      ],
      "metadata": {
        "id": "QGJdyWMDtTLc"
      },
      "execution_count": null,
      "outputs": []
    },
    {
      "cell_type": "code",
      "source": [
        "Xtrain = np.reshape(prediction, (prediction.shape[0], prediction.shape[1]))"
      ],
      "metadata": {
        "id": "O6137rB2yGXu"
      },
      "execution_count": null,
      "outputs": []
    },
    {
      "cell_type": "code",
      "source": [
        "prediction = np.array(model.predict([x_test,x_test]))"
      ],
      "metadata": {
        "id": "nxQYv2F8tYeD"
      },
      "execution_count": null,
      "outputs": []
    },
    {
      "cell_type": "code",
      "source": [
        "Xtest = np.reshape(prediction, (prediction.shape[0], prediction.shape[1]))\n",
        "\n",
        "print('\\tFeatures training shape: ', Xtrain.shape)\n",
        "print('\\tFeatures testing shape: ', Xtest.shape)"
      ],
      "metadata": {
        "id": "jhwUhj1RyP9W"
      },
      "execution_count": null,
      "outputs": []
    },
    {
      "cell_type": "code",
      "source": [
        "print(\"Classification with Linear SVM ...\")\n",
        "svm = SVC(kernel='linear')\n",
        "svm.fit(Xtrain, np.ravel(y_train, order='C'))\n",
        "result = svm.predict(Xtest)\n",
        "\n",
        "acc = accuracy_score(result, np.ravel(y_test, order='C'))\n",
        "print(\"\\tAccuracy Linear SVM: %0.4f\" % acc)"
      ],
      "metadata": {
        "id": "Wj0K7FX2tfez"
      },
      "execution_count": null,
      "outputs": []
    },
    {
      "cell_type": "markdown",
      "source": [
        "### using random forest"
      ],
      "metadata": {
        "id": "gz5DtARxthrQ"
      }
    },
    {
      "cell_type": "code",
      "source": [
        "rf = RandomForestClassifier(n_estimators=10, random_state=30)\n",
        "rf.fit(([Xtrain,Xtrain]),y_train_one_hot)\n",
        "result = svm.predict(Xtest)\n",
        "\n",
        "acc = accuracy_score(result, np.ravel(y_test_one_hot, order='C'))\n",
        "print(\"\\tAccuracy Linear SVM: %0.4f\" % acc)"
      ],
      "metadata": {
        "id": "vjovfPs3uKTj"
      },
      "execution_count": null,
      "outputs": []
    },
    {
      "cell_type": "code",
      "execution_count": null,
      "metadata": {
        "id": "ILCZO2YhlCK-"
      },
      "outputs": [],
      "source": [
        "import matplotlib.pyplot as plt\n",
        "acc = history.history['accuracy']\n",
        "val_acc = history.history['val_accuracy']\n",
        "loss = history.history['loss']\n",
        "val_loss = history.history['val_loss']\n",
        "epochs = range(len(acc))\n",
        "\n",
        "plt.plot(epochs, acc, 'r', label = 'Training Accuracy')\n",
        "plt.plot(epochs, val_acc, 'b', label= 'Validation Accuracy')\n",
        "#plt.plot(epochs, loss,'', label = 'loss')\n",
        "#plt.plot(epochs, val_loss,'', label = 'val loss')\n",
        "plt.title('Training and Validation accuray')\n",
        "plt.legend(loc=0)\n",
        "plt.figure()\n",
        "#show the graph\n",
        "plt.show()"
      ]
    },
    {
      "cell_type": "code",
      "execution_count": null,
      "metadata": {
        "id": "4a4OQHhhldUE"
      },
      "outputs": [],
      "source": [
        "acc = history.history['accuracy']\n",
        "val_acc = history.history['val_accuracy']\n",
        "loss = history.history['loss']\n",
        "val_loss = history.history['val_loss']\n",
        "epochs = range(len(acc))\n",
        "\n",
        "#plt.plot(epochs, acc, 'r', label = 'Training Accuracy')\n",
        "#plt.plot(epochs, val_acc, 'b', label= 'Validation Accuracy')\n",
        "plt.plot(epochs, loss,'', label = 'loss')\n",
        "plt.plot(epochs, val_loss,'', label = 'val loss')\n",
        "plt.title('Training and Validation accuray')\n",
        "plt.legend(loc=0)\n",
        "plt.figure()\n",
        "#show the graph\n",
        "plt.show()"
      ]
    },
    {
      "cell_type": "code",
      "execution_count": null,
      "metadata": {
        "id": "21eDLpKbyz0h"
      },
      "outputs": [],
      "source": [
        "#model =  densenet.DenseNet121()\n",
        "model.summary()"
      ]
    },
    {
      "cell_type": "code",
      "execution_count": null,
      "metadata": {
        "id": "IP-sYU4FwxFW"
      },
      "outputs": [],
      "source": [
        "#x = Flatten()(model.get_layer(index=-2).output)"
      ]
    },
    {
      "cell_type": "code",
      "execution_count": null,
      "metadata": {
        "id": "tt80UBw1KdIO"
      },
      "outputs": [],
      "source": [
        "model = Model(inputs = [model.input,model.input],outputs = model.get_layer(index=-4).output)"
      ]
    },
    {
      "cell_type": "code",
      "execution_count": null,
      "metadata": {
        "id": "HY7XQ-ZarmWJ"
      },
      "outputs": [],
      "source": [
        "model.summary()"
      ]
    },
    {
      "cell_type": "code",
      "execution_count": null,
      "metadata": {
        "colab": {
          "background_save": true
        },
        "id": "rjewxUODLYfH"
      },
      "outputs": [],
      "source": [
        "print(\"Feature extraction ...\")\n",
        "prediction = np.array(model.predict(x_train))\n",
        "Xtrain = np.reshape(prediction, (prediction.shape[0], prediction.shape[1]))"
      ]
    },
    {
      "cell_type": "code",
      "execution_count": null,
      "metadata": {
        "id": "c2Io7Ae3Qonz"
      },
      "outputs": [],
      "source": [
        "prediction = np.array(model.predict(x_test))\n",
        "Xtest = np.reshape(prediction, (prediction.shape[0], prediction.shape[1]))\n",
        "\n",
        "print('\\tFeatures training shape: ', Xtrain.shape)\n",
        "print('\\tFeatures testing shape: ', Xtest.shape)"
      ]
    },
    {
      "cell_type": "code",
      "execution_count": null,
      "metadata": {
        "id": "3zNqlvivoTH4"
      },
      "outputs": [],
      "source": [
        "print(\"Classification with Linear SVM ...\")\n",
        "svm = SVC(kernel='linear')\n",
        "svm.fit(Xtrain, np.ravel(y_train, order='C'))\n",
        "result = svm.predict(Xtest)\n",
        "\n",
        "acc = accuracy_score(result, np.ravel(y_test, order='C'))\n",
        "print(\"\\tAccuracy Linear SVM: %0.4f\" % acc)"
      ]
    },
    {
      "cell_type": "code",
      "execution_count": null,
      "metadata": {
        "id": "p3-2KQxPocf9"
      },
      "outputs": [],
      "source": [
        "#from skle\n",
        "from keras.layers import Input, Dense, Concatenate\n",
        "from keras.models import Model\n",
        "from keras.applications import vgg16\n",
        "import numpy as np\n",
        "\n",
        "# Some random images, labels and target label\n",
        "images = np.random.rand(10, 64, 64, 3)\n",
        "labels = np.random.randint(0, 1, size=(10, 4))\n",
        "target = np.random.randint(0, 1, size=(10, 1))\n",
        "\n",
        "# Extract VGG16 features for the images\n",
        "image_input = Input((64, 64, 3))\n",
        "model = vgg16.VGG16(include_top=False, weights='imagenet')\n",
        "features = model.predict(images)\n",
        "features = np.reshape(features, (10, -1))  # 2048 features per image \n",
        "\n",
        "# Two input layers: one for the image features, one for additional labels\n",
        "feature_input = Input((2048,), name='feature_input')\n",
        "label_input = Input((4, ), name='label_input')\n",
        "\n",
        "# Concatenate the features\n",
        "concatenate_layer = Concatenate(name='concatenation')([feature_input, label_input]) \n",
        "dense = Dense(16)(concatenate_layer)\n",
        "output = Dense(1, name='output_layer', activation='sigmoid')(dense)\n",
        "\n",
        "# To define the model, pass list of input layers\n",
        "model = Model(inputs=[feature_input, label_input], outputs=output)\n",
        "model.compile(optimizer='sgd', loss='binary_crossentropy')\n",
        "\n",
        "# To fit the model, pass a list of inputs arrays\n",
        "model.fit(x=[features, labels], y=target)"
      ]
    },
    {
      "cell_type": "code",
      "execution_count": null,
      "metadata": {
        "id": "Jfgmlu24_peq"
      },
      "outputs": [],
      "source": [
        "import tensorflow as tf\n",
        "tf.keras.utils.plot_model(\n",
        "    model,\n",
        "    to_file=\"model.png\",\n",
        "    show_shapes=False,\n",
        "    show_dtype=False,\n",
        "    show_layer_names=True,\n",
        "    rankdir=\"TB\",\n",
        "    expand_nested=False,\n",
        "    dpi=96,\n",
        "    layer_range=None,\n",
        "    show_layer_activations=False,\n",
        ")"
      ]
    },
    {
      "cell_type": "code",
      "execution_count": null,
      "metadata": {
        "id": "ujsPqX72_7ZT"
      },
      "outputs": [],
      "source": [
        ""
      ]
    }
  ],
  "metadata": {
    "accelerator": "GPU",
    "colab": {
      "collapsed_sections": [],
      "name": "better_coffee.ipynb",
      "provenance": [],
      "private_outputs": true,
      "include_colab_link": true
    },
    "kernelspec": {
      "display_name": "Python 3",
      "name": "python3"
    },
    "language_info": {
      "name": "python"
    }
  },
  "nbformat": 4,
  "nbformat_minor": 0
}